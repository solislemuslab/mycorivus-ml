{
 "cells": [
  {
   "cell_type": "code",
   "execution_count": 1,
   "metadata": {},
   "outputs": [],
   "source": [
    "# import packages\n",
    "import matplotlib\n",
    "#matplotlib.use('TkAgg')\n",
    "import matplotlib.pyplot as plt\n",
    "import matplotlib.pyplot as plt\n",
    "import numpy as np\n",
    "import pandas as pdz\n",
    "import numpy as np\n",
    "import pandas as pd\n",
    "\n",
    "from pandas import Series, DataFrame\n",
    "import Bio\n",
    "from Bio import SeqIO,AlignIO\n",
    "\n",
    "import sklearn\n",
    "from sklearn.feature_extraction.text import CountVectorizer\n",
    "from sklearn.mixture import GaussianMixture as GMM\n",
    "\n",
    "from sklearn.manifold import TSNE\n",
    "import seaborn as sns\n",
    "\n",
    "from sklearn.preprocessing import StandardScaler\n",
    "from sklearn.decomposition import PCA\n",
    "\n",
    "import time"
   ]
  },
  {
   "cell_type": "code",
   "execution_count": 2,
   "metadata": {},
   "outputs": [],
   "source": [
    "# methods\n",
    "\n",
    "def parseFasta(data):\n",
    "    d = {fasta.id : str(fasta.seq) for fasta in SeqIO.parse(data, \"fasta\")}\n",
    "    pd.DataFrame([d])\n",
    "    s = pd.Series(d, name='Sequence')\n",
    "    s.index.name = 'ID'\n",
    "    s.reset_index()\n",
    "    return pd.DataFrame(s)\n",
    "\n",
    "def get_kmer_table(path,k_min,k_max):\n",
    "    genes,gene_len = read_fasta(path)\n",
    "    count_vect = CountVectorizer(analyzer='char', ngram_range=(k_min, k_max))\n",
    "    X = count_vect.fit_transform(genes)\n",
    "    chars = count_vect.get_feature_names()\n",
    "    kmers = X.toarray()\n",
    "    kmer_freq = []\n",
    "    for i in range(len(genes)):\n",
    "        kmer_freq.append(kmers[i] / gene_len[i])\n",
    "    input = pd.DataFrame(kmer_freq, columns=chars)\n",
    "    return input\n",
    "\n",
    "def get_gene_sequences(filename):\n",
    "    genes = []\n",
    "    for record in SeqIO.parse(filename, \"fasta\"):\n",
    "        genes.append(str(record.seq))\n",
    "    return genes\n",
    "\n",
    "# genes: a list of gene sequences, which can directly be generated from get_gene_sequences().\n",
    "def get_gene_len(genes):\n",
    "    gene_len = []\n",
    "\n",
    "    for i in range(len(genes)):\n",
    "        gene_len.append(len(genes[i]))\n",
    "    return gene_len\n",
    "\n",
    "#read single fasta file containing all the gene sequences\n",
    "def read_fasta(path):\n",
    "    virus = parseFasta(path)\n",
    "    virus = virus.drop_duplicates(keep=\"last\")\n",
    "    genes = list(virus['Sequence'])\n",
    "    gene_seq = get_gene_sequences(path)\n",
    "    gene_len = get_gene_len(gene_seq)\n",
    "    return gene_seq,gene_len\n",
    "\n",
    "\n",
    "def get_predictions(path,k_min,k_max,num_class,cov_type,seed):\n",
    "    kmer_table = get_kmer_table(path, k_min, k_max)\n",
    "    gmm = GMM(n_components=num_class,covariance_type=cov_type,random_state = seed).fit(kmer_table)\n",
    "    predictions = gmm.predict(kmer_table)\n",
    "    return predictions\n",
    "\n",
    "def get_predictions_semi(path,k_min,k_max,num_class,cov_type,seed,labels):\n",
    "    kmer_table = get_kmer_table(path, k_min, k_max)\n",
    "    finalDf = pd.concat([kmer_table, pd.Series(labels)], axis = 1)\n",
    "    gmm = GMM(n_components=num_class,covariance_type=cov_type,random_state = seed)\n",
    "    gmm.means_init = np.array([kmer_table[finalDf.Labels == i].mean(axis=0) for i in range(num_class)])\n",
    "    gmm.fit(kmer_table)\n",
    "    predictions = gmm.predict(kmer_table)\n",
    "    return predictions\n",
    "\n",
    "def cal_accuracy(labels, predictions):\n",
    "    err = 0\n",
    "    total_len = len(labels)\n",
    "    for i in range(len(labels)):\n",
    "        if (labels[i] == -1):\n",
    "            total_len = total_len-1\n",
    "            continue\n",
    "        if (labels[i] != predictions[i]):\n",
    "            err += 1\n",
    "            \n",
    "    return 1-err/(total_len)"
   ]
  },
  {
   "cell_type": "code",
   "execution_count": 3,
   "metadata": {},
   "outputs": [],
   "source": [
    "def sammon(x, n, display = 2, maxhalves = 20, maxiter = 500, tolfun = 1e-9):\n",
    "\n",
    "    import numpy as np \n",
    "    from scipy.spatial.distance import cdist\n",
    "\n",
    "    D = cdist(x, x) # distance matrix\n",
    "    init = 'pca' # initialization from pca\n",
    "\n",
    "    if np.count_nonzero(np.diagonal(D)) > 0:\n",
    "        raise ValueError(\"The diagonal of the dissimilarity matrix must be zero\")\n",
    "\n",
    "    # Remaining initialisation\n",
    "    N = x.shape[0]\n",
    "    scale = 0.5 / D.sum()\n",
    "    D = D + np.eye(N)     \n",
    "\n",
    "    if np.count_nonzero(D<=0) > 0:\n",
    "        raise ValueError(\"Off-diagonal dissimilarities must be strictly positive\")   \n",
    "\n",
    "    Dinv = 1 / D\n",
    "    [UU,DD,_] = np.linalg.svd(x)\n",
    "    y = UU[:,:n]*DD[:n] \n",
    "    \n",
    "    one = np.ones([N,n])\n",
    "    d = cdist(y,y) + np.eye(N)\n",
    "    dinv = 1. / d\n",
    "    delta = D-d \n",
    "    E = ((delta**2)*Dinv).sum() \n",
    "\n",
    "    for i in range(maxiter):\n",
    "\n",
    "        # Compute gradient, Hessian and search direction (note it is actually\n",
    "        # 1/4 of the gradient and Hessian, but the step size is just the ratio\n",
    "        # of the gradient and the diagonal of the Hessian so it doesn't\n",
    "        # matter).\n",
    "        delta = dinv - Dinv\n",
    "        deltaone = np.dot(delta,one)\n",
    "        g = np.dot(delta,y) - (y * deltaone)\n",
    "        dinv3 = dinv ** 3\n",
    "        y2 = y ** 2\n",
    "        H = np.dot(dinv3,y2) - deltaone - np.dot(2,y) * np.dot(dinv3,y) + y2 * np.dot(dinv3,one)\n",
    "        s = -g.flatten(order='F') / np.abs(H.flatten(order='F'))\n",
    "        y_old    = y\n",
    "\n",
    "        # Use step-halving procedure to ensure progress is made\n",
    "        for j in range(maxhalves):\n",
    "            s_reshape = np.reshape(s, (-1,n),order='F')\n",
    "            y = y_old + s_reshape\n",
    "            d = cdist(y, y) + np.eye(N)\n",
    "            dinv = 1 / d\n",
    "            delta = D - d\n",
    "            E_new = ((delta**2)*Dinv).sum()\n",
    "            if E_new < E:\n",
    "                break\n",
    "            else:\n",
    "                s = 0.5*s\n",
    "\n",
    "        # Bomb out if too many halving steps are required\n",
    "        if j == maxhalves-1:\n",
    "            print('Warning: maxhalves exceeded. Sammon mapping may not converge...')\n",
    "\n",
    "        # Evaluate termination criterion\n",
    "        if abs((E - E_new) / E) < tolfun:\n",
    "            if display:\n",
    "                print('TolFun exceeded: Optimisation terminated')\n",
    "            break\n",
    "\n",
    "        # Report progress\n",
    "        E = E_new\n",
    "        if display > 1:\n",
    "            print('epoch = %d : E = %12.10f'% (i+1, E * scale))\n",
    "\n",
    "    if i == maxiter-1:\n",
    "        print('Warning: maxiter exceeded. Sammon mapping may not have converged...')\n",
    "\n",
    "    # Fiddle stress to match the original Sammon paper\n",
    "    E = E * scale\n",
    "    \n",
    "    return [y,E]\n",
    "    \n",
    "def sammon_plot(y,plot_labels,path):\n",
    "    x_axis = []\n",
    "    y_axis = []\n",
    "\n",
    "    for i in range(len(y)):\n",
    "        x_axis.append(y[i][0])\n",
    "        y_axis.append(y[i][1])\n",
    "\n",
    "    sns.scatterplot(x_axis, y_axis, hue=plot_labels, legend='full')\n",
    "    #images.append(path)\n",
    "    plt.savefig(path)   \n",
    "    plt.close()\n",
    "    #plt.show()"
   ]
  },
  {
   "cell_type": "code",
   "execution_count": 4,
   "metadata": {},
   "outputs": [],
   "source": [
    "def cal_accuracy(labels, predictions):\n",
    "    err = 0\n",
    "    total_len = len(labels)\n",
    "    for i in range(len(labels)):\n",
    "        if (labels[i] == -1):\n",
    "            total_len = total_len-1\n",
    "            continue\n",
    "        if (labels[i] != predictions[i]):\n",
    "            err += 1\n",
    "            \n",
    "    return 1-err/(total_len)"
   ]
  },
  {
   "cell_type": "code",
   "execution_count": 5,
   "metadata": {},
   "outputs": [],
   "source": [
    "def PCA_plot(x,y,n_dim,path):\n",
    "    \n",
    "    x = StandardScaler().fit_transform(x)\n",
    "    pca = PCA(n_components=n_dim)\n",
    "    principalComponents = pca.fit_transform(x)\n",
    "    principalDf = pd.DataFrame(data = principalComponents,columns = ['principal component 1', 'principal component 2'])\n",
    "    finalDf = pd.concat([principalDf, pd.Series(y)], axis = 1)\n",
    "    finalDf.columns = ['principal component 1', 'principal component 2','target']\n",
    "    \n",
    "    fig = plt.figure(figsize = (8,8))\n",
    "    ax = fig.add_subplot(1,1,1) \n",
    "    ax.set_xlabel('Principal Component 1', fontsize = 15)\n",
    "    ax.set_ylabel('Principal Component 2', fontsize = 15)\n",
    "    ax.set_title('2 component PCA', fontsize = 20)\n",
    "    targets = [0,1]\n",
    "    colors = ['r', 'g']\n",
    "    for target, color in zip(targets,colors):\n",
    "        indicesToKeep = finalDf['target'] == target\n",
    "        ax.scatter(finalDf.loc[indicesToKeep, 'principal component 1']\n",
    "                   , finalDf.loc[indicesToKeep, 'principal component 2']\n",
    "                   , c = color)\n",
    "    ax.legend(targets)\n",
    "    #images.append(path)\n",
    "    fig.savefig(path)   \n",
    "    plt.close(fig)\n",
    "    #plt.show()"
   ]
  },
  {
   "cell_type": "code",
   "execution_count": 6,
   "metadata": {},
   "outputs": [],
   "source": [
    "def tsne_plot(x,y,path):\n",
    "    tsne = TSNE()\n",
    "    X_embedded = tsne.fit_transform(x)\n",
    "    sns.scatterplot(X_embedded[:,0], X_embedded[:,1], hue=y, legend='full')\n",
    "    #images.append(path)\n",
    "    plt.savefig(path)   \n",
    "    plt.close()"
   ]
  },
  {
   "cell_type": "code",
   "execution_count": 25,
   "metadata": {},
   "outputs": [],
   "source": [
    "def model_selection(path,labels,num_class):\n",
    "    best_accu = 0\n",
    "    best_prediction = []\n",
    "    cov_type = ['full','diag','tied','spherical']\n",
    "    k_min = [2,3,4]\n",
    "    k_max = [3,4,5]\n",
    "    for cov in cov_type:\n",
    "        for k1 in k_min:\n",
    "            for k2 in k_max:\n",
    "                if (k2 >= k1):\n",
    "                    prediction = get_predictions_semi(path,k1,k2,num_class,cov,0,labels)\n",
    "                    accu = cal_accuracy(labels,prediction)\n",
    "                    if accu > best_accu: \n",
    "                        best_accu = accu\n",
    "                        best_kmin = k1\n",
    "                        best_kmax = k2\n",
    "                        best_cov = cov\n",
    "                        best_prediction = prediction\n",
    "    print('Best model has the following parameters:')\n",
    "    print('minimum length of kmer: ', best_kmin)\n",
    "    print('maximum length of kmer: ', best_kmax)\n",
    "    print('covariance type: ', best_cov)\n",
    "    print('It has an accuracy regard to known labels of ',best_accu)\n",
    "    return best_kmin,best_kmax,best_cov,best_prediction"
   ]
  },
  {
   "cell_type": "markdown",
   "metadata": {},
   "source": [
    "# Unsupervised "
   ]
  },
  {
   "cell_type": "markdown",
   "metadata": {},
   "source": [
    "### The user can choose the values for parameters,but if some parameters are not assigned by the users, use the default values. Otherwise, replace the default values by user-assigned values."
   ]
  },
  {
   "cell_type": "code",
   "execution_count": 9,
   "metadata": {},
   "outputs": [],
   "source": [
    "path = \"../datasets/combined_Bat_Cat_flu.fa\"\n",
    "k_min = 2 #default value, change to user input if user chooses some value\n",
    "k_max = 3 #default value, change to user input if user chooses some value\n",
    "num_class = 2 #required for user to choose\n",
    "cov_type = 'full' #default value, change to user input if user chooses some value\n",
    "seed = int(time.time()) #default value, change to user input if user chooses some value\n",
    "predictions1_1 = get_predictions(path,k_min,k_max,num_class,cov_type,seed)"
   ]
  },
  {
   "cell_type": "code",
   "execution_count": 10,
   "metadata": {},
   "outputs": [
    {
     "data": {
      "text/plain": [
       "array([0, 0, 0, 0, 0, 1, 1, 0, 0, 0, 0, 0, 0, 1, 1, 0, 0, 1, 0, 0, 0, 0,\n",
       "       0, 0, 0, 0, 0, 0, 0, 1, 1, 0, 0, 0, 0, 0, 0, 1, 1, 0, 0, 0, 0, 0,\n",
       "       1, 1, 1, 0, 0, 0, 0, 0, 1, 1, 1, 0, 0, 0, 0, 0, 1, 1, 1, 0, 1, 1,\n",
       "       1, 1, 0, 1, 1, 0, 0, 1, 0, 1, 0, 1, 1, 1, 1, 1, 0, 1, 1, 1, 0, 1,\n",
       "       1, 1, 1, 0, 1, 1, 1, 0, 1, 1, 0, 0, 1, 1, 0, 1, 1, 0, 1, 1, 1, 0,\n",
       "       1, 1, 1, 1, 0, 1, 1, 1, 1, 1, 1, 1, 1, 1, 1, 0, 1, 1, 1, 1, 1, 1,\n",
       "       1, 0, 1, 1, 1, 1, 0, 0, 1, 1, 1, 1, 1, 1, 1, 1, 1, 1, 1, 1, 1, 1,\n",
       "       1, 1, 1, 1, 1, 1, 1, 1, 1, 1, 1, 1, 1, 1, 1, 1, 1, 1, 1, 1, 1, 1,\n",
       "       1, 1])"
      ]
     },
     "execution_count": 10,
     "metadata": {},
     "output_type": "execute_result"
    }
   ],
   "source": [
    "predictions1_1"
   ]
  },
  {
   "cell_type": "markdown",
   "metadata": {},
   "source": [
    "### Return the parameter info in a txt file and predictions in a csv file "
   ]
  },
  {
   "cell_type": "code",
   "execution_count": 11,
   "metadata": {},
   "outputs": [],
   "source": [
    "f= open(\"parameters.txt\",\"w+\")\n",
    "f.write(\"Range of kmer: \"+ str(k_min) + \" - \" + str(k_max) + \"\\n\")\n",
    "f.write(\"Covariance type: \" + cov_type + \"\\n\")\n",
    "f.write(\"Seed used: \" + str(seed))\n",
    "f.close()"
   ]
  },
  {
   "cell_type": "code",
   "execution_count": 22,
   "metadata": {},
   "outputs": [],
   "source": [
    "number = list(range(1, len(predictions1_1)+1))\n",
    "df = pd.DataFrame(list(zip(number, predictions1_1)), \n",
    "               columns =['Number', 'Labels']) \n",
    "df.to_csv('predictions1_1.csv',index = False)"
   ]
  },
  {
   "cell_type": "markdown",
   "metadata": {},
   "source": [
    "### Return the plot"
   ]
  },
  {
   "cell_type": "code",
   "execution_count": 14,
   "metadata": {},
   "outputs": [
    {
     "name": "stderr",
     "output_type": "stream",
     "text": [
      "/Users/zhiwen/Applications/miniconda3/lib/python3.7/site-packages/ipykernel_launcher.py:3: FutureWarning: Method .as_matrix will be removed in a future version. Use .values instead.\n",
      "  This is separate from the ipykernel package so we can avoid doing imports until\n",
      "/Users/zhiwen/Applications/miniconda3/lib/python3.7/site-packages/seaborn/_decorators.py:43: FutureWarning: Pass the following variables as keyword args: x, y. From version 0.12, the only valid positional argument will be `data`, and passing other arguments without an explicit keyword will result in an error or misinterpretation.\n",
      "  FutureWarning\n"
     ]
    },
    {
     "name": "stdout",
     "output_type": "stream",
     "text": [
      "epoch = 1 : E = 0.1421706998\n",
      "epoch = 2 : E = 0.1414983526\n",
      "epoch = 3 : E = 0.1340482251\n",
      "epoch = 4 : E = 0.1311866485\n",
      "epoch = 5 : E = 0.1262983033\n",
      "epoch = 6 : E = 0.1235176199\n",
      "epoch = 7 : E = 0.1103771789\n",
      "epoch = 8 : E = 0.1094232142\n",
      "epoch = 9 : E = 0.1085228384\n",
      "epoch = 10 : E = 0.1076210635\n",
      "epoch = 11 : E = 0.1072554275\n",
      "epoch = 12 : E = 0.0967275342\n",
      "epoch = 13 : E = 0.0918998674\n",
      "epoch = 14 : E = 0.0905637867\n",
      "epoch = 15 : E = 0.0743733153\n",
      "epoch = 16 : E = 0.0728240860\n",
      "epoch = 17 : E = 0.0551435851\n",
      "epoch = 18 : E = 0.0473457347\n",
      "epoch = 19 : E = 0.0437824378\n",
      "epoch = 20 : E = 0.0379273304\n",
      "epoch = 21 : E = 0.0365097429\n",
      "epoch = 22 : E = 0.0296029920\n",
      "epoch = 23 : E = 0.0295920511\n",
      "epoch = 24 : E = 0.0288622824\n",
      "epoch = 25 : E = 0.0284943450\n",
      "epoch = 26 : E = 0.0282151787\n",
      "epoch = 27 : E = 0.0271957099\n",
      "epoch = 28 : E = 0.0271611520\n",
      "epoch = 29 : E = 0.0269738681\n",
      "epoch = 30 : E = 0.0269631932\n",
      "epoch = 31 : E = 0.0268259976\n",
      "epoch = 32 : E = 0.0265691439\n",
      "epoch = 33 : E = 0.0264497034\n",
      "epoch = 34 : E = 0.0262524210\n",
      "epoch = 35 : E = 0.0260841758\n",
      "epoch = 36 : E = 0.0259442322\n",
      "epoch = 37 : E = 0.0259329615\n",
      "epoch = 38 : E = 0.0258074775\n",
      "epoch = 39 : E = 0.0256961510\n",
      "epoch = 40 : E = 0.0256813356\n",
      "epoch = 41 : E = 0.0256386941\n",
      "epoch = 42 : E = 0.0256022486\n",
      "epoch = 43 : E = 0.0255739473\n",
      "epoch = 44 : E = 0.0255457043\n",
      "epoch = 45 : E = 0.0255318673\n",
      "epoch = 46 : E = 0.0255164089\n",
      "epoch = 47 : E = 0.0255160709\n",
      "epoch = 48 : E = 0.0255054470\n",
      "epoch = 49 : E = 0.0255024120\n",
      "epoch = 50 : E = 0.0255010899\n",
      "epoch = 51 : E = 0.0255007442\n",
      "epoch = 52 : E = 0.0254995482\n",
      "epoch = 53 : E = 0.0254991228\n",
      "epoch = 54 : E = 0.0254989339\n",
      "epoch = 55 : E = 0.0254985025\n",
      "epoch = 56 : E = 0.0254981777\n",
      "epoch = 57 : E = 0.0254980062\n",
      "epoch = 58 : E = 0.0254978537\n",
      "epoch = 59 : E = 0.0254977496\n",
      "epoch = 60 : E = 0.0254976805\n",
      "epoch = 61 : E = 0.0254976689\n",
      "epoch = 62 : E = 0.0254975208\n",
      "epoch = 63 : E = 0.0254974681\n",
      "epoch = 64 : E = 0.0254974495\n",
      "epoch = 65 : E = 0.0254973574\n",
      "epoch = 66 : E = 0.0254973143\n",
      "epoch = 67 : E = 0.0254972910\n",
      "epoch = 68 : E = 0.0254972294\n",
      "epoch = 69 : E = 0.0254971910\n",
      "epoch = 70 : E = 0.0254971652\n",
      "epoch = 71 : E = 0.0254971225\n",
      "epoch = 72 : E = 0.0254970900\n",
      "epoch = 73 : E = 0.0254970677\n",
      "epoch = 74 : E = 0.0254970655\n",
      "epoch = 75 : E = 0.0254970164\n",
      "epoch = 76 : E = 0.0254970016\n",
      "epoch = 77 : E = 0.0254970006\n",
      "epoch = 78 : E = 0.0254969706\n",
      "epoch = 79 : E = 0.0254969626\n",
      "epoch = 80 : E = 0.0254969524\n",
      "epoch = 81 : E = 0.0254969453\n",
      "epoch = 82 : E = 0.0254969414\n",
      "epoch = 83 : E = 0.0254969355\n",
      "epoch = 84 : E = 0.0254969317\n",
      "epoch = 85 : E = 0.0254969298\n",
      "epoch = 86 : E = 0.0254969263\n",
      "epoch = 87 : E = 0.0254969243\n",
      "epoch = 88 : E = 0.0254969232\n",
      "epoch = 89 : E = 0.0254969211\n",
      "epoch = 90 : E = 0.0254969199\n",
      "epoch = 91 : E = 0.0254969193\n",
      "epoch = 92 : E = 0.0254969180\n",
      "epoch = 93 : E = 0.0254969172\n",
      "epoch = 94 : E = 0.0254969168\n",
      "epoch = 95 : E = 0.0254969160\n",
      "epoch = 96 : E = 0.0254969154\n",
      "epoch = 97 : E = 0.0254969151\n",
      "epoch = 98 : E = 0.0254969146\n",
      "epoch = 99 : E = 0.0254969142\n",
      "epoch = 100 : E = 0.0254969139\n",
      "TolFun exceeded: Optimisation terminated\n"
     ]
    },
    {
     "name": "stderr",
     "output_type": "stream",
     "text": [
      "/Users/zhiwen/Applications/miniconda3/lib/python3.7/site-packages/seaborn/_decorators.py:43: FutureWarning: Pass the following variables as keyword args: x, y. From version 0.12, the only valid positional argument will be `data`, and passing other arguments without an explicit keyword will result in an error or misinterpretation.\n",
      "  FutureWarning\n"
     ]
    }
   ],
   "source": [
    "df = get_kmer_table(\"../datasets/combined_Bat_Cat_flu.fa\",k_min,k_max)\n",
    "df2 = df.drop_duplicates(keep=\"last\")\n",
    "X = df2.as_matrix(columns = df2.columns)\n",
    "[y, E] = sammon(X,2)\n",
    "sammon_plot(y,predictions1_1[df2.index.values],'figures/sammon_web_test1.png')\n",
    "PCA_plot(df,predictions1_1,2,'figures/pca_web_test1.png')\n",
    "tsne_plot(df,predictions1_1,'figures/tsne_web_test1.png')"
   ]
  },
  {
   "cell_type": "markdown",
   "metadata": {},
   "source": [
    "# Semi-supervised"
   ]
  },
  {
   "cell_type": "markdown",
   "metadata": {},
   "source": [
    "### Default"
   ]
  },
  {
   "cell_type": "code",
   "execution_count": 26,
   "metadata": {},
   "outputs": [
    {
     "name": "stdout",
     "output_type": "stream",
     "text": [
      "Best model has the following parameters:\n",
      "minimum length of kmer:  2\n",
      "maximum length of kmer:  4\n",
      "covariance type:  diag\n",
      "It has an accuracy regard to known labels of  0.9411764705882353\n"
     ]
    }
   ],
   "source": [
    "labels = pd.read_csv('../datasets/labels_ten_percent.csv') # change the filepath to user input file\n",
    "labels = pd.Series(labels['Labels'])\n",
    "path = \"../datasets/combined_Bat_Cat_flu.fa\"\n",
    "\n",
    "best_kmin,best_kmax,best_cov,best_prediction = model_selection(path,labels,2)"
   ]
  },
  {
   "cell_type": "markdown",
   "metadata": {},
   "source": [
    "### If user choose "
   ]
  },
  {
   "cell_type": "code",
   "execution_count": 16,
   "metadata": {},
   "outputs": [],
   "source": [
    "path = \"../datasets/combined_Bat_Cat_flu.fa\"\n",
    "k_min = 2 # change to user input if user chooses some value\n",
    "k_max = 3 # change to user input if user chooses some value\n",
    "num_class = 2 # required for user to choose\n",
    "cov_type = 'full' # change to user input if user chooses some value\n",
    "seed = int(time.time()) # change to user input if user chooses some value\n",
    "labels = pd.read_csv('../datasets/labels_fifty_percent.csv')#change to user input\n",
    "labels = pd.Series(labels['Labels'])\n",
    "\n",
    "predictions2_1 = get_predictions_semi(path,k_min,k_max,num_class,cov_type,seed,labels)"
   ]
  },
  {
   "cell_type": "code",
   "execution_count": 17,
   "metadata": {},
   "outputs": [
    {
     "data": {
      "text/plain": [
       "array([0, 0, 0, 0, 0, 0, 0, 0, 0, 0, 0, 0, 0, 0, 0, 0, 0, 0, 0, 0, 0, 0,\n",
       "       0, 0, 0, 0, 0, 0, 0, 0, 0, 0, 0, 0, 0, 0, 0, 0, 0, 0, 0, 0, 0, 0,\n",
       "       0, 0, 0, 0, 0, 0, 0, 0, 0, 0, 0, 0, 0, 0, 0, 0, 0, 0, 0, 0, 0, 0,\n",
       "       0, 0, 0, 0, 0, 0, 0, 0, 0, 0, 0, 0, 0, 0, 0, 0, 0, 0, 0, 0, 0, 0,\n",
       "       0, 1, 0, 0, 0, 0, 0, 0, 0, 0, 0, 0, 0, 0, 0, 0, 0, 0, 0, 0, 0, 0,\n",
       "       0, 0, 0, 0, 0, 0, 0, 0, 0, 0, 0, 0, 0, 0, 0, 0, 0, 0, 0, 0, 0, 0,\n",
       "       0, 0, 0, 0, 0, 0, 0, 0, 0, 0, 0, 0, 0, 0, 0, 0, 0, 0, 0, 0, 0, 0,\n",
       "       0, 0, 0, 0, 0, 0, 0, 0, 0, 0, 0, 0, 0, 0, 0, 0, 0, 0, 0, 0, 0, 0,\n",
       "       0, 0])"
      ]
     },
     "execution_count": 17,
     "metadata": {},
     "output_type": "execute_result"
    }
   ],
   "source": [
    "predictions2_1"
   ]
  },
  {
   "cell_type": "markdown",
   "metadata": {},
   "source": [
    "### Return the plot, parameter info, and predictions"
   ]
  },
  {
   "cell_type": "code",
   "execution_count": 19,
   "metadata": {},
   "outputs": [
    {
     "name": "stderr",
     "output_type": "stream",
     "text": [
      "/Users/zhiwen/Applications/miniconda3/lib/python3.7/site-packages/ipykernel_launcher.py:3: FutureWarning: Method .as_matrix will be removed in a future version. Use .values instead.\n",
      "  This is separate from the ipykernel package so we can avoid doing imports until\n",
      "/Users/zhiwen/Applications/miniconda3/lib/python3.7/site-packages/seaborn/_decorators.py:43: FutureWarning: Pass the following variables as keyword args: x, y. From version 0.12, the only valid positional argument will be `data`, and passing other arguments without an explicit keyword will result in an error or misinterpretation.\n",
      "  FutureWarning\n"
     ]
    },
    {
     "name": "stdout",
     "output_type": "stream",
     "text": [
      "epoch = 1 : E = 0.1421706998\n",
      "epoch = 2 : E = 0.1414983526\n",
      "epoch = 3 : E = 0.1340482251\n",
      "epoch = 4 : E = 0.1311866485\n",
      "epoch = 5 : E = 0.1262983033\n",
      "epoch = 6 : E = 0.1235176199\n",
      "epoch = 7 : E = 0.1103771789\n",
      "epoch = 8 : E = 0.1094232142\n",
      "epoch = 9 : E = 0.1085228384\n",
      "epoch = 10 : E = 0.1076210635\n",
      "epoch = 11 : E = 0.1072554275\n",
      "epoch = 12 : E = 0.0967275342\n",
      "epoch = 13 : E = 0.0918998674\n",
      "epoch = 14 : E = 0.0905637867\n",
      "epoch = 15 : E = 0.0743733153\n",
      "epoch = 16 : E = 0.0728240860\n",
      "epoch = 17 : E = 0.0551435851\n",
      "epoch = 18 : E = 0.0473457347\n",
      "epoch = 19 : E = 0.0437824378\n",
      "epoch = 20 : E = 0.0379273304\n",
      "epoch = 21 : E = 0.0365097429\n",
      "epoch = 22 : E = 0.0296029920\n",
      "epoch = 23 : E = 0.0295920511\n",
      "epoch = 24 : E = 0.0288622824\n",
      "epoch = 25 : E = 0.0284943450\n",
      "epoch = 26 : E = 0.0282151787\n",
      "epoch = 27 : E = 0.0271957099\n",
      "epoch = 28 : E = 0.0271611520\n",
      "epoch = 29 : E = 0.0269738681\n",
      "epoch = 30 : E = 0.0269631932\n",
      "epoch = 31 : E = 0.0268259976\n",
      "epoch = 32 : E = 0.0265691439\n",
      "epoch = 33 : E = 0.0264497034\n",
      "epoch = 34 : E = 0.0262524210\n",
      "epoch = 35 : E = 0.0260841758\n",
      "epoch = 36 : E = 0.0259442322\n",
      "epoch = 37 : E = 0.0259329615\n",
      "epoch = 38 : E = 0.0258074775\n",
      "epoch = 39 : E = 0.0256961510\n",
      "epoch = 40 : E = 0.0256813356\n",
      "epoch = 41 : E = 0.0256386941\n",
      "epoch = 42 : E = 0.0256022486\n",
      "epoch = 43 : E = 0.0255739473\n",
      "epoch = 44 : E = 0.0255457043\n",
      "epoch = 45 : E = 0.0255318673\n",
      "epoch = 46 : E = 0.0255164089\n",
      "epoch = 47 : E = 0.0255160709\n",
      "epoch = 48 : E = 0.0255054470\n",
      "epoch = 49 : E = 0.0255024120\n",
      "epoch = 50 : E = 0.0255010899\n",
      "epoch = 51 : E = 0.0255007442\n",
      "epoch = 52 : E = 0.0254995482\n",
      "epoch = 53 : E = 0.0254991228\n",
      "epoch = 54 : E = 0.0254989339\n",
      "epoch = 55 : E = 0.0254985025\n",
      "epoch = 56 : E = 0.0254981777\n",
      "epoch = 57 : E = 0.0254980062\n",
      "epoch = 58 : E = 0.0254978537\n",
      "epoch = 59 : E = 0.0254977496\n",
      "epoch = 60 : E = 0.0254976805\n",
      "epoch = 61 : E = 0.0254976689\n",
      "epoch = 62 : E = 0.0254975208\n",
      "epoch = 63 : E = 0.0254974681\n",
      "epoch = 64 : E = 0.0254974495\n",
      "epoch = 65 : E = 0.0254973574\n",
      "epoch = 66 : E = 0.0254973143\n",
      "epoch = 67 : E = 0.0254972910\n",
      "epoch = 68 : E = 0.0254972294\n",
      "epoch = 69 : E = 0.0254971910\n",
      "epoch = 70 : E = 0.0254971652\n",
      "epoch = 71 : E = 0.0254971225\n",
      "epoch = 72 : E = 0.0254970900\n",
      "epoch = 73 : E = 0.0254970677\n",
      "epoch = 74 : E = 0.0254970655\n",
      "epoch = 75 : E = 0.0254970164\n",
      "epoch = 76 : E = 0.0254970016\n",
      "epoch = 77 : E = 0.0254970006\n",
      "epoch = 78 : E = 0.0254969706\n",
      "epoch = 79 : E = 0.0254969626\n",
      "epoch = 80 : E = 0.0254969524\n",
      "epoch = 81 : E = 0.0254969453\n",
      "epoch = 82 : E = 0.0254969414\n",
      "epoch = 83 : E = 0.0254969355\n",
      "epoch = 84 : E = 0.0254969317\n",
      "epoch = 85 : E = 0.0254969298\n",
      "epoch = 86 : E = 0.0254969263\n",
      "epoch = 87 : E = 0.0254969243\n",
      "epoch = 88 : E = 0.0254969232\n",
      "epoch = 89 : E = 0.0254969211\n",
      "epoch = 90 : E = 0.0254969199\n",
      "epoch = 91 : E = 0.0254969193\n",
      "epoch = 92 : E = 0.0254969180\n",
      "epoch = 93 : E = 0.0254969172\n",
      "epoch = 94 : E = 0.0254969168\n",
      "epoch = 95 : E = 0.0254969160\n",
      "epoch = 96 : E = 0.0254969154\n",
      "epoch = 97 : E = 0.0254969151\n",
      "epoch = 98 : E = 0.0254969146\n",
      "epoch = 99 : E = 0.0254969142\n",
      "epoch = 100 : E = 0.0254969139\n",
      "TolFun exceeded: Optimisation terminated\n"
     ]
    },
    {
     "name": "stderr",
     "output_type": "stream",
     "text": [
      "/Users/zhiwen/Applications/miniconda3/lib/python3.7/site-packages/seaborn/_decorators.py:43: FutureWarning: Pass the following variables as keyword args: x, y. From version 0.12, the only valid positional argument will be `data`, and passing other arguments without an explicit keyword will result in an error or misinterpretation.\n",
      "  FutureWarning\n"
     ]
    }
   ],
   "source": [
    "df = get_kmer_table(\"../datasets/combined_Bat_Cat_flu.fa\",k_min,k_max)\n",
    "df2 = df.drop_duplicates(keep=\"last\")\n",
    "X = df2.as_matrix(columns = df2.columns)\n",
    "[y, E] = sammon(X,2)\n",
    "sammon_plot(y,predictions1_1[df2.index.values],'figures/sammon_web_test2.png')\n",
    "PCA_plot(df,predictions2_1,2,'figures/pca_web_test2.png')\n",
    "tsne_plot(df,predictions2_1,'figures/tsne_web_test2.png')"
   ]
  },
  {
   "cell_type": "code",
   "execution_count": 20,
   "metadata": {},
   "outputs": [],
   "source": [
    "f= open(\"parameters2.txt\",\"w+\")\n",
    "f.write(\"Range of kmer: \"+ str(k_min) + \" - \" + str(k_max) + \"\\n\")\n",
    "f.write(\"Covariance type: \" + cov_type + \"\\n\")\n",
    "f.write(\"Seed used: \" + str(seed) + \"\\n\")\n",
    "f.write(\"Accuracy based on known labels: \" + str(cal_accuracy(labels,predictions2_1)))\n",
    "f.close()"
   ]
  },
  {
   "cell_type": "markdown",
   "metadata": {},
   "source": [
    "# Plot for the illustration of covariance type"
   ]
  },
  {
   "cell_type": "code",
   "execution_count": 48,
   "metadata": {},
   "outputs": [],
   "source": [
    "def make_ellipses(gmm, ax):\n",
    "    for n, color in enumerate(colors):\n",
    "        if gmm.covariance_type == 'full':\n",
    "            covariances = gmm.covariances_[n][:2, :2]\n",
    "        elif gmm.covariance_type == 'tied':\n",
    "            covariances = gmm.covariances_[:2, :2]\n",
    "        elif gmm.covariance_type == 'diag':\n",
    "            covariances = np.diag(gmm.covariances_[n][:2])\n",
    "        elif gmm.covariance_type == 'spherical':\n",
    "            covariances = np.eye(gmm.means_.shape[1]) * gmm.covariances_[n]\n",
    "        v, w = np.linalg.eigh(covariances)\n",
    "        u = w[0] / np.linalg.norm(w[0])\n",
    "        angle = np.arctan2(u[1], u[0])\n",
    "        angle = 180 * angle / np.pi  # convert to degrees\n",
    "        v = 2. * np.sqrt(2.) * np.sqrt(v)\n",
    "        ell = matplotlib.patches.Ellipse(gmm.means_[n, :2], v[0], v[1],\n",
    "                                  180 + angle, color=color)\n",
    "        ell.set_clip_box(ax.bbox)\n",
    "        ell.set_alpha(0.5)\n",
    "        ax.add_artist(ell)\n",
    "        ax.set_aspect('equal', 'datalim')\n",
    "\n"
   ]
  },
  {
   "cell_type": "code",
   "execution_count": 58,
   "metadata": {},
   "outputs": [],
   "source": [
    "df = get_kmer_table(\"datasets/combined_Bat_Cat_flu.fa\",k_min,k_max)\n",
    "df['target']=pd.Series(predictions1_1)"
   ]
  },
  {
   "cell_type": "code",
   "execution_count": 85,
   "metadata": {},
   "outputs": [
    {
     "data": {
      "image/png": "[encoded data removed]",
      "text/plain": [
       "<Figure size 1152x1152 with 1 Axes>"
      ]
     },
     "metadata": {},
     "output_type": "display_data"
    },
    {
     "data": {
      "image/png": "[encoded data removed]",
      "text/plain": [
       "<Figure size 1152x1152 with 1 Axes>"
      ]
     },
     "metadata": {},
     "output_type": "display_data"
    },
    {
     "data": {
      "image/png": "[encoded data removed]",
      "text/plain": [
       "<Figure size 1152x1152 with 1 Axes>"
      ]
     },
     "metadata": {},
     "output_type": "display_data"
    },
    {
     "data": {
      "image/png": "[encoded data removed]",
      "text/plain": [
       "<Figure size 1152x1152 with 1 Axes>"
      ]
     },
     "metadata": {},
     "output_type": "display_data"
    }
   ],
   "source": [
    "num_class = 2\n",
    "colors = ['red', 'green']\n",
    "\n",
    "x = StandardScaler().fit_transform(df)\n",
    "pca = PCA(n_components=2)\n",
    "principalComponents = pca.fit_transform(x)\n",
    "principalDf = pd.DataFrame(data = principalComponents,columns = ['principal component 1', 'principal component 2'])\n",
    "finalDf = pd.concat([principalDf, pd.Series(predictions1_1)], axis = 1)\n",
    "finalDf.columns = ['principal component 1', 'principal component 2','target']\n",
    "\n",
    "# Try GMMs using different types of covariances.\n",
    "estimators = {cov_type: GMM(n_components=num_class,\n",
    "              covariance_type=cov_type, max_iter=20, random_state=0)\n",
    "              for cov_type in ['spherical', 'diag', 'tied', 'full']}\n",
    "\n",
    "for index, (name, estimator) in enumerate(estimators.items()):\n",
    "    estimator.means_init = np.array([principalDf[finalDf.target == i].mean(axis=0)\n",
    "                                    for i in range(num_class)])\n",
    "\n",
    "    estimator.fit(principalDf)\n",
    "    n_estimators = len(estimators)\n",
    "    \n",
    "    plt.figure(figsize=(8 * n_estimators // 2, 16))\n",
    "\n",
    "    h = plt.subplot(2, n_estimators // 2, index + 1)\n",
    "    make_ellipses(estimator, h)\n",
    "\n",
    "    for n, color in enumerate(colors):\n",
    "        plt.scatter(finalDf['principal component 1'], finalDf['principal component 2'], s=0.8, color=color,\n",
    "                    label=finalDf.target)\n",
    "        \n",
    "    plt.xticks(())\n",
    "    plt.yticks(())\n",
    "    plt.title(name)\n",
    "    plt.legend(['First Category', 'Second Category'])"
   ]
  },
  {
   "cell_type": "code",
   "execution_count": null,
   "metadata": {},
   "outputs": [],
   "source": []
  }
 ],
 "metadata": {
  "kernelspec": {
   "display_name": "Python 3",
   "language": "python",
   "name": "python3"
  },
  "language_info": {
   "codemirror_mode": {
    "name": "ipython",
    "version": 3
   },
   "file_extension": ".py",
   "mimetype": "text/x-python",
   "name": "python",
   "nbconvert_exporter": "python",
   "pygments_lexer": "ipython3",
   "version": "3.7.3"
  }
 },
 "nbformat": 4,
 "nbformat_minor": 2
}
