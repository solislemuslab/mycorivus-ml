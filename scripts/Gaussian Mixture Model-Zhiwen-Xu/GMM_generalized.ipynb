{
 "cells": [
  {
   "cell_type": "code",
   "execution_count": 1,
   "metadata": {},
   "outputs": [],
   "source": [
    "# import packages\n",
    "import matplotlib\n",
    "#matplotlib.use('TkAgg')\n",
    "import matplotlib.pyplot as plt\n",
    "import matplotlib.pyplot as plt\n",
    "import numpy as np\n",
    "import pandas as pd\n",
    "import numpy as np\n",
    "\n",
    "from pandas import Series, DataFrame\n",
    "import Bio\n",
    "from Bio import SeqIO,AlignIO\n",
    "from sklearn.feature_extraction.text import CountVectorizer\n",
    "from sklearn.mixture import GaussianMixture as GMM\n",
    "\n",
    "from sklearn.manifold import TSNE\n",
    "import seaborn as sns\n",
    "\n",
    "from sklearn.preprocessing import StandardScaler\n",
    "from sklearn.decomposition import PCA"
   ]
  },
  {
   "cell_type": "code",
   "execution_count": 2,
   "metadata": {},
   "outputs": [],
   "source": [
    "# methods\n",
    "\n",
    "# parseFasta(data) credit to Luke\n",
    "def parseFasta(data):\n",
    "    d = {fasta.id : str(fasta.seq) for fasta in SeqIO.parse(data, \"fasta\")}\n",
    "    pd.DataFrame([d])\n",
    "    s = pd.Series(d, name='Sequence')\n",
    "    s.index.name = 'ID'\n",
    "    s.reset_index()\n",
    "    return pd.DataFrame(s)\n",
    "\n",
    "def get_kmer_table(paths,k_min,k_max):\n",
    "    genes,gene_len = read_fasta(paths)\n",
    "    count_vect = CountVectorizer(analyzer='char', ngram_range=(k_min, k_max))\n",
    "    X = count_vect.fit_transform(genes)\n",
    "    chars = count_vect.get_feature_names()\n",
    "    kmers = X.toarray()\n",
    "    kmer_freq = []\n",
    "    for i in range(len(genes)):\n",
    "        kmer_freq.append(kmers[i] / gene_len[i])\n",
    "    input = pd.DataFrame(kmer_freq, columns=chars)\n",
    "    return input\n",
    "\n",
    "def get_gene_sequences(filename):\n",
    "    genes = []\n",
    "    for record in SeqIO.parse(filename, \"fasta\"):\n",
    "        genes.append(str(record.seq))\n",
    "    return genes\n",
    "\n",
    "# genes: a list of gene sequences, which can directly be generated from get_gene_sequences().\n",
    "def get_gene_len(genes):\n",
    "    gene_len = []\n",
    "\n",
    "    for i in range(len(genes)):\n",
    "        gene_len.append(len(genes[i]))\n",
    "    return gene_len\n",
    "\n",
    "def read_fasta(paths):\n",
    "    all_genes = []\n",
    "    all_gene_len = []\n",
    "    \n",
    "    for path in paths:\n",
    "        virus = parseFasta(path)\n",
    "        virus = virus.drop_duplicates(keep=\"last\")\n",
    "        genes = list(virus['Sequence'])\n",
    "        genes_seq = get_gene_sequences(path)\n",
    "        gene_len = get_gene_len(genes_seq)\n",
    "        all_genes = all_genes + genes_seq\n",
    "        all_gene_len = all_gene_len + gene_len\n",
    "    return all_genes,all_gene_len\n",
    "\n",
    "def get_predictions(paths,k_min,k_max,num_class,cov_type):\n",
    "    kmer_table = get_kmer_table(paths, k_min, k_max)\n",
    "    gmm = GMM(n_components=num_class,covariance_type=cov_type).fit(kmer_table)\n",
    "    labels = gmm.predict(kmer_table)\n",
    "    return labels\n",
    "\n"
   ]
  },
  {
   "cell_type": "code",
   "execution_count": 109,
   "metadata": {},
   "outputs": [],
   "source": [
    "def sammon(x, n, display = 2, maxhalves = 20, maxiter = 500, tolfun = 1e-9):\n",
    "\n",
    "    import numpy as np \n",
    "    from scipy.spatial.distance import cdist\n",
    "\n",
    "    D = cdist(x, x) # distance matrix\n",
    "    init = 'pca' # initialization from pca\n",
    "\n",
    "    if np.count_nonzero(np.diagonal(D)) > 0:\n",
    "        raise ValueError(\"The diagonal of the dissimilarity matrix must be zero\")\n",
    "\n",
    "    # Remaining initialisation\n",
    "    N = x.shape[0]\n",
    "    scale = 0.5 / D.sum()\n",
    "    D = D + np.eye(N)     \n",
    "\n",
    "    if np.count_nonzero(D<=0) > 0:\n",
    "        raise ValueError(\"Off-diagonal dissimilarities must be strictly positive\")   \n",
    "\n",
    "    Dinv = 1 / D\n",
    "    [UU,DD,_] = np.linalg.svd(x)\n",
    "    y = UU[:,:n]*DD[:n] \n",
    "    \n",
    "    one = np.ones([N,n])\n",
    "    d = cdist(y,y) + np.eye(N)\n",
    "    dinv = 1. / d\n",
    "    delta = D-d \n",
    "    E = ((delta**2)*Dinv).sum() \n",
    "\n",
    "    for i in range(maxiter):\n",
    "\n",
    "        # Compute gradient, Hessian and search direction (note it is actually\n",
    "        # 1/4 of the gradient and Hessian, but the step size is just the ratio\n",
    "        # of the gradient and the diagonal of the Hessian so it doesn't\n",
    "        # matter).\n",
    "        delta = dinv - Dinv\n",
    "        deltaone = np.dot(delta,one)\n",
    "        g = np.dot(delta,y) - (y * deltaone)\n",
    "        dinv3 = dinv ** 3\n",
    "        y2 = y ** 2\n",
    "        H = np.dot(dinv3,y2) - deltaone - np.dot(2,y) * np.dot(dinv3,y) + y2 * np.dot(dinv3,one)\n",
    "        s = -g.flatten(order='F') / np.abs(H.flatten(order='F'))\n",
    "        y_old    = y\n",
    "\n",
    "        # Use step-halving procedure to ensure progress is made\n",
    "        for j in range(maxhalves):\n",
    "            s_reshape = np.reshape(s, (-1,n),order='F')\n",
    "            y = y_old + s_reshape\n",
    "            d = cdist(y, y) + np.eye(N)\n",
    "            dinv = 1 / d\n",
    "            delta = D - d\n",
    "            E_new = ((delta**2)*Dinv).sum()\n",
    "            if E_new < E:\n",
    "                break\n",
    "            else:\n",
    "                s = 0.5*s\n",
    "\n",
    "        # Bomb out if too many halving steps are required\n",
    "        if j == maxhalves-1:\n",
    "            print('Warning: maxhalves exceeded. Sammon mapping may not converge...')\n",
    "\n",
    "        # Evaluate termination criterion\n",
    "        if abs((E - E_new) / E) < tolfun:\n",
    "            if display:\n",
    "                print('TolFun exceeded: Optimisation terminated')\n",
    "            break\n",
    "\n",
    "        # Report progress\n",
    "        E = E_new\n",
    "        if display > 1:\n",
    "            print('epoch = %d : E = %12.10f'% (i+1, E * scale))\n",
    "\n",
    "    if i == maxiter-1:\n",
    "        print('Warning: maxiter exceeded. Sammon mapping may not have converged...')\n",
    "\n",
    "    # Fiddle stress to match the original Sammon paper\n",
    "    E = E * scale\n",
    "    \n",
    "    return [y,E]\n",
    "    \n",
    "def sammon_plot(y,plot_labels):\n",
    "    x_axis = []\n",
    "    y_axis = []\n",
    "\n",
    "    for i in range(len(y)):\n",
    "        x_axis.append(y[i][0])\n",
    "        y_axis.append(y[i][1])\n",
    "\n",
    "    sns.scatterplot(x_axis, y_axis, hue=plot_labels, legend='full')\n",
    "    plt.show()"
   ]
  },
  {
   "cell_type": "code",
   "execution_count": 4,
   "metadata": {},
   "outputs": [],
   "source": [
    "def cal_accuracy(labels, predictions):\n",
    "    return 1-sum(abs(labels - predictions))/(len(labels))\n",
    "\n",
    "def create_labels (files):\n",
    "    labels = []\n",
    "    for f in files:\n",
    "        length = len(get_gene_sequences(f))\n",
    "    \n",
    "    return labels"
   ]
  },
  {
   "cell_type": "code",
   "execution_count": 5,
   "metadata": {},
   "outputs": [
    {
     "data": {
      "text/html": [
       "<div>\n",
       "<style scoped>\n",
       "    .dataframe tbody tr th:only-of-type {\n",
       "        vertical-align: middle;\n",
       "    }\n",
       "\n",
       "    .dataframe tbody tr th {\n",
       "        vertical-align: top;\n",
       "    }\n",
       "\n",
       "    .dataframe thead th {\n",
       "        text-align: right;\n",
       "    }\n",
       "</style>\n",
       "<table border=\"1\" class=\"dataframe\">\n",
       "  <thead>\n",
       "    <tr style=\"text-align: right;\">\n",
       "      <th></th>\n",
       "      <th>aa</th>\n",
       "      <th>aaa</th>\n",
       "      <th>aac</th>\n",
       "      <th>aag</th>\n",
       "      <th>aar</th>\n",
       "      <th>aat</th>\n",
       "      <th>ac</th>\n",
       "      <th>aca</th>\n",
       "      <th>acc</th>\n",
       "      <th>acg</th>\n",
       "      <th>...</th>\n",
       "      <th>tgc</th>\n",
       "      <th>tgg</th>\n",
       "      <th>tgt</th>\n",
       "      <th>tt</th>\n",
       "      <th>tta</th>\n",
       "      <th>ttc</th>\n",
       "      <th>ttg</th>\n",
       "      <th>ttt</th>\n",
       "      <th>yg</th>\n",
       "      <th>ygc</th>\n",
       "    </tr>\n",
       "  </thead>\n",
       "  <tbody>\n",
       "    <tr>\n",
       "      <th>0</th>\n",
       "      <td>0.163382</td>\n",
       "      <td>0.059133</td>\n",
       "      <td>0.024967</td>\n",
       "      <td>0.035042</td>\n",
       "      <td>0.0</td>\n",
       "      <td>0.043802</td>\n",
       "      <td>0.063513</td>\n",
       "      <td>0.030223</td>\n",
       "      <td>0.014017</td>\n",
       "      <td>0.002628</td>\n",
       "      <td>...</td>\n",
       "      <td>0.009636</td>\n",
       "      <td>0.020149</td>\n",
       "      <td>0.010951</td>\n",
       "      <td>0.063951</td>\n",
       "      <td>0.015331</td>\n",
       "      <td>0.011827</td>\n",
       "      <td>0.020587</td>\n",
       "      <td>0.016207</td>\n",
       "      <td>0.0</td>\n",
       "      <td>0.0</td>\n",
       "    </tr>\n",
       "    <tr>\n",
       "      <th>1</th>\n",
       "      <td>0.150594</td>\n",
       "      <td>0.057684</td>\n",
       "      <td>0.021576</td>\n",
       "      <td>0.027741</td>\n",
       "      <td>0.0</td>\n",
       "      <td>0.043153</td>\n",
       "      <td>0.058124</td>\n",
       "      <td>0.025099</td>\n",
       "      <td>0.013210</td>\n",
       "      <td>0.003523</td>\n",
       "      <td>...</td>\n",
       "      <td>0.014091</td>\n",
       "      <td>0.018494</td>\n",
       "      <td>0.013650</td>\n",
       "      <td>0.069573</td>\n",
       "      <td>0.020696</td>\n",
       "      <td>0.011449</td>\n",
       "      <td>0.014971</td>\n",
       "      <td>0.022457</td>\n",
       "      <td>0.0</td>\n",
       "      <td>0.0</td>\n",
       "    </tr>\n",
       "    <tr>\n",
       "      <th>2</th>\n",
       "      <td>0.164332</td>\n",
       "      <td>0.063025</td>\n",
       "      <td>0.019608</td>\n",
       "      <td>0.035481</td>\n",
       "      <td>0.0</td>\n",
       "      <td>0.045752</td>\n",
       "      <td>0.042484</td>\n",
       "      <td>0.021475</td>\n",
       "      <td>0.008403</td>\n",
       "      <td>0.001867</td>\n",
       "      <td>...</td>\n",
       "      <td>0.007937</td>\n",
       "      <td>0.017274</td>\n",
       "      <td>0.014006</td>\n",
       "      <td>0.075630</td>\n",
       "      <td>0.016340</td>\n",
       "      <td>0.019141</td>\n",
       "      <td>0.017274</td>\n",
       "      <td>0.022876</td>\n",
       "      <td>0.0</td>\n",
       "      <td>0.0</td>\n",
       "    </tr>\n",
       "    <tr>\n",
       "      <th>3</th>\n",
       "      <td>0.148280</td>\n",
       "      <td>0.058126</td>\n",
       "      <td>0.028470</td>\n",
       "      <td>0.023132</td>\n",
       "      <td>0.0</td>\n",
       "      <td>0.038553</td>\n",
       "      <td>0.067023</td>\n",
       "      <td>0.032622</td>\n",
       "      <td>0.011862</td>\n",
       "      <td>0.004152</td>\n",
       "      <td>...</td>\n",
       "      <td>0.017200</td>\n",
       "      <td>0.022539</td>\n",
       "      <td>0.013049</td>\n",
       "      <td>0.078885</td>\n",
       "      <td>0.014828</td>\n",
       "      <td>0.015421</td>\n",
       "      <td>0.023725</td>\n",
       "      <td>0.024911</td>\n",
       "      <td>0.0</td>\n",
       "      <td>0.0</td>\n",
       "    </tr>\n",
       "    <tr>\n",
       "      <th>4</th>\n",
       "      <td>0.133869</td>\n",
       "      <td>0.048193</td>\n",
       "      <td>0.020750</td>\n",
       "      <td>0.035475</td>\n",
       "      <td>0.0</td>\n",
       "      <td>0.029451</td>\n",
       "      <td>0.046185</td>\n",
       "      <td>0.020750</td>\n",
       "      <td>0.009371</td>\n",
       "      <td>0.002008</td>\n",
       "      <td>...</td>\n",
       "      <td>0.013387</td>\n",
       "      <td>0.025435</td>\n",
       "      <td>0.009371</td>\n",
       "      <td>0.058233</td>\n",
       "      <td>0.006693</td>\n",
       "      <td>0.015395</td>\n",
       "      <td>0.018072</td>\n",
       "      <td>0.018072</td>\n",
       "      <td>0.0</td>\n",
       "      <td>0.0</td>\n",
       "    </tr>\n",
       "    <tr>\n",
       "      <th>...</th>\n",
       "      <td>...</td>\n",
       "      <td>...</td>\n",
       "      <td>...</td>\n",
       "      <td>...</td>\n",
       "      <td>...</td>\n",
       "      <td>...</td>\n",
       "      <td>...</td>\n",
       "      <td>...</td>\n",
       "      <td>...</td>\n",
       "      <td>...</td>\n",
       "      <td>...</td>\n",
       "      <td>...</td>\n",
       "      <td>...</td>\n",
       "      <td>...</td>\n",
       "      <td>...</td>\n",
       "      <td>...</td>\n",
       "      <td>...</td>\n",
       "      <td>...</td>\n",
       "      <td>...</td>\n",
       "      <td>...</td>\n",
       "      <td>...</td>\n",
       "    </tr>\n",
       "    <tr>\n",
       "      <th>170</th>\n",
       "      <td>0.103371</td>\n",
       "      <td>0.034831</td>\n",
       "      <td>0.016854</td>\n",
       "      <td>0.028090</td>\n",
       "      <td>0.0</td>\n",
       "      <td>0.023596</td>\n",
       "      <td>0.053933</td>\n",
       "      <td>0.017978</td>\n",
       "      <td>0.008989</td>\n",
       "      <td>0.005618</td>\n",
       "      <td>...</td>\n",
       "      <td>0.016854</td>\n",
       "      <td>0.022472</td>\n",
       "      <td>0.012360</td>\n",
       "      <td>0.070787</td>\n",
       "      <td>0.006742</td>\n",
       "      <td>0.019101</td>\n",
       "      <td>0.023596</td>\n",
       "      <td>0.021348</td>\n",
       "      <td>0.0</td>\n",
       "      <td>0.0</td>\n",
       "    </tr>\n",
       "    <tr>\n",
       "      <th>171</th>\n",
       "      <td>0.116107</td>\n",
       "      <td>0.034149</td>\n",
       "      <td>0.023335</td>\n",
       "      <td>0.022197</td>\n",
       "      <td>0.0</td>\n",
       "      <td>0.036426</td>\n",
       "      <td>0.056915</td>\n",
       "      <td>0.027319</td>\n",
       "      <td>0.010814</td>\n",
       "      <td>0.005122</td>\n",
       "      <td>...</td>\n",
       "      <td>0.011952</td>\n",
       "      <td>0.022197</td>\n",
       "      <td>0.021628</td>\n",
       "      <td>0.064883</td>\n",
       "      <td>0.009106</td>\n",
       "      <td>0.019920</td>\n",
       "      <td>0.020489</td>\n",
       "      <td>0.015367</td>\n",
       "      <td>0.0</td>\n",
       "      <td>0.0</td>\n",
       "    </tr>\n",
       "    <tr>\n",
       "      <th>172</th>\n",
       "      <td>0.111491</td>\n",
       "      <td>0.034173</td>\n",
       "      <td>0.021786</td>\n",
       "      <td>0.029475</td>\n",
       "      <td>0.0</td>\n",
       "      <td>0.026057</td>\n",
       "      <td>0.057668</td>\n",
       "      <td>0.026057</td>\n",
       "      <td>0.011961</td>\n",
       "      <td>0.004699</td>\n",
       "      <td>...</td>\n",
       "      <td>0.012388</td>\n",
       "      <td>0.024776</td>\n",
       "      <td>0.013669</td>\n",
       "      <td>0.055959</td>\n",
       "      <td>0.010679</td>\n",
       "      <td>0.011534</td>\n",
       "      <td>0.017941</td>\n",
       "      <td>0.015805</td>\n",
       "      <td>0.0</td>\n",
       "      <td>0.0</td>\n",
       "    </tr>\n",
       "    <tr>\n",
       "      <th>173</th>\n",
       "      <td>0.075949</td>\n",
       "      <td>0.026290</td>\n",
       "      <td>0.018500</td>\n",
       "      <td>0.018500</td>\n",
       "      <td>0.0</td>\n",
       "      <td>0.012658</td>\n",
       "      <td>0.055501</td>\n",
       "      <td>0.016553</td>\n",
       "      <td>0.015579</td>\n",
       "      <td>0.009737</td>\n",
       "      <td>...</td>\n",
       "      <td>0.019474</td>\n",
       "      <td>0.026290</td>\n",
       "      <td>0.011685</td>\n",
       "      <td>0.060370</td>\n",
       "      <td>0.008763</td>\n",
       "      <td>0.010711</td>\n",
       "      <td>0.024343</td>\n",
       "      <td>0.016553</td>\n",
       "      <td>0.0</td>\n",
       "      <td>0.0</td>\n",
       "    </tr>\n",
       "    <tr>\n",
       "      <th>174</th>\n",
       "      <td>0.114054</td>\n",
       "      <td>0.036309</td>\n",
       "      <td>0.025203</td>\n",
       "      <td>0.025203</td>\n",
       "      <td>0.0</td>\n",
       "      <td>0.027339</td>\n",
       "      <td>0.068347</td>\n",
       "      <td>0.027766</td>\n",
       "      <td>0.015378</td>\n",
       "      <td>0.004699</td>\n",
       "      <td>...</td>\n",
       "      <td>0.010679</td>\n",
       "      <td>0.023494</td>\n",
       "      <td>0.012388</td>\n",
       "      <td>0.058095</td>\n",
       "      <td>0.009398</td>\n",
       "      <td>0.014951</td>\n",
       "      <td>0.019650</td>\n",
       "      <td>0.014097</td>\n",
       "      <td>0.0</td>\n",
       "      <td>0.0</td>\n",
       "    </tr>\n",
       "  </tbody>\n",
       "</table>\n",
       "<p>175 rows × 95 columns</p>\n",
       "</div>"
      ],
      "text/plain": [
       "           aa       aaa       aac       aag  aar       aat        ac  \\\n",
       "0    0.163382  0.059133  0.024967  0.035042  0.0  0.043802  0.063513   \n",
       "1    0.150594  0.057684  0.021576  0.027741  0.0  0.043153  0.058124   \n",
       "2    0.164332  0.063025  0.019608  0.035481  0.0  0.045752  0.042484   \n",
       "3    0.148280  0.058126  0.028470  0.023132  0.0  0.038553  0.067023   \n",
       "4    0.133869  0.048193  0.020750  0.035475  0.0  0.029451  0.046185   \n",
       "..        ...       ...       ...       ...  ...       ...       ...   \n",
       "170  0.103371  0.034831  0.016854  0.028090  0.0  0.023596  0.053933   \n",
       "171  0.116107  0.034149  0.023335  0.022197  0.0  0.036426  0.056915   \n",
       "172  0.111491  0.034173  0.021786  0.029475  0.0  0.026057  0.057668   \n",
       "173  0.075949  0.026290  0.018500  0.018500  0.0  0.012658  0.055501   \n",
       "174  0.114054  0.036309  0.025203  0.025203  0.0  0.027339  0.068347   \n",
       "\n",
       "          aca       acc       acg  ...       tgc       tgg       tgt  \\\n",
       "0    0.030223  0.014017  0.002628  ...  0.009636  0.020149  0.010951   \n",
       "1    0.025099  0.013210  0.003523  ...  0.014091  0.018494  0.013650   \n",
       "2    0.021475  0.008403  0.001867  ...  0.007937  0.017274  0.014006   \n",
       "3    0.032622  0.011862  0.004152  ...  0.017200  0.022539  0.013049   \n",
       "4    0.020750  0.009371  0.002008  ...  0.013387  0.025435  0.009371   \n",
       "..        ...       ...       ...  ...       ...       ...       ...   \n",
       "170  0.017978  0.008989  0.005618  ...  0.016854  0.022472  0.012360   \n",
       "171  0.027319  0.010814  0.005122  ...  0.011952  0.022197  0.021628   \n",
       "172  0.026057  0.011961  0.004699  ...  0.012388  0.024776  0.013669   \n",
       "173  0.016553  0.015579  0.009737  ...  0.019474  0.026290  0.011685   \n",
       "174  0.027766  0.015378  0.004699  ...  0.010679  0.023494  0.012388   \n",
       "\n",
       "           tt       tta       ttc       ttg       ttt   yg  ygc  \n",
       "0    0.063951  0.015331  0.011827  0.020587  0.016207  0.0  0.0  \n",
       "1    0.069573  0.020696  0.011449  0.014971  0.022457  0.0  0.0  \n",
       "2    0.075630  0.016340  0.019141  0.017274  0.022876  0.0  0.0  \n",
       "3    0.078885  0.014828  0.015421  0.023725  0.024911  0.0  0.0  \n",
       "4    0.058233  0.006693  0.015395  0.018072  0.018072  0.0  0.0  \n",
       "..        ...       ...       ...       ...       ...  ...  ...  \n",
       "170  0.070787  0.006742  0.019101  0.023596  0.021348  0.0  0.0  \n",
       "171  0.064883  0.009106  0.019920  0.020489  0.015367  0.0  0.0  \n",
       "172  0.055959  0.010679  0.011534  0.017941  0.015805  0.0  0.0  \n",
       "173  0.060370  0.008763  0.010711  0.024343  0.016553  0.0  0.0  \n",
       "174  0.058095  0.009398  0.014951  0.019650  0.014097  0.0  0.0  \n",
       "\n",
       "[175 rows x 95 columns]"
      ]
     },
     "execution_count": 5,
     "metadata": {},
     "output_type": "execute_result"
    }
   ],
   "source": [
    "df = get_kmer_table([\"datasets/bat_flu.fa\",\"datasets/penguin_flu.fa\"],2,3)\n",
    "df"
   ]
  },
  {
   "cell_type": "code",
   "execution_count": 6,
   "metadata": {},
   "outputs": [
    {
     "data": {
      "text/html": [
       "<div>\n",
       "<style scoped>\n",
       "    .dataframe tbody tr th:only-of-type {\n",
       "        vertical-align: middle;\n",
       "    }\n",
       "\n",
       "    .dataframe tbody tr th {\n",
       "        vertical-align: top;\n",
       "    }\n",
       "\n",
       "    .dataframe thead th {\n",
       "        text-align: right;\n",
       "    }\n",
       "</style>\n",
       "<table border=\"1\" class=\"dataframe\">\n",
       "  <thead>\n",
       "    <tr style=\"text-align: right;\">\n",
       "      <th></th>\n",
       "      <th>aa</th>\n",
       "      <th>aaa</th>\n",
       "      <th>aac</th>\n",
       "      <th>aag</th>\n",
       "      <th>aar</th>\n",
       "      <th>aat</th>\n",
       "      <th>ac</th>\n",
       "      <th>aca</th>\n",
       "      <th>acc</th>\n",
       "      <th>acg</th>\n",
       "      <th>...</th>\n",
       "      <th>tgc</th>\n",
       "      <th>tgg</th>\n",
       "      <th>tgt</th>\n",
       "      <th>tt</th>\n",
       "      <th>tta</th>\n",
       "      <th>ttc</th>\n",
       "      <th>ttg</th>\n",
       "      <th>ttt</th>\n",
       "      <th>yg</th>\n",
       "      <th>ygc</th>\n",
       "    </tr>\n",
       "  </thead>\n",
       "  <tbody>\n",
       "    <tr>\n",
       "      <th>0</th>\n",
       "      <td>0.163382</td>\n",
       "      <td>0.059133</td>\n",
       "      <td>0.024967</td>\n",
       "      <td>0.035042</td>\n",
       "      <td>0.0</td>\n",
       "      <td>0.043802</td>\n",
       "      <td>0.063513</td>\n",
       "      <td>0.030223</td>\n",
       "      <td>0.014017</td>\n",
       "      <td>0.002628</td>\n",
       "      <td>...</td>\n",
       "      <td>0.009636</td>\n",
       "      <td>0.020149</td>\n",
       "      <td>0.010951</td>\n",
       "      <td>0.063951</td>\n",
       "      <td>0.015331</td>\n",
       "      <td>0.011827</td>\n",
       "      <td>0.020587</td>\n",
       "      <td>0.016207</td>\n",
       "      <td>0.0</td>\n",
       "      <td>0.0</td>\n",
       "    </tr>\n",
       "    <tr>\n",
       "      <th>1</th>\n",
       "      <td>0.150594</td>\n",
       "      <td>0.057684</td>\n",
       "      <td>0.021576</td>\n",
       "      <td>0.027741</td>\n",
       "      <td>0.0</td>\n",
       "      <td>0.043153</td>\n",
       "      <td>0.058124</td>\n",
       "      <td>0.025099</td>\n",
       "      <td>0.013210</td>\n",
       "      <td>0.003523</td>\n",
       "      <td>...</td>\n",
       "      <td>0.014091</td>\n",
       "      <td>0.018494</td>\n",
       "      <td>0.013650</td>\n",
       "      <td>0.069573</td>\n",
       "      <td>0.020696</td>\n",
       "      <td>0.011449</td>\n",
       "      <td>0.014971</td>\n",
       "      <td>0.022457</td>\n",
       "      <td>0.0</td>\n",
       "      <td>0.0</td>\n",
       "    </tr>\n",
       "    <tr>\n",
       "      <th>3</th>\n",
       "      <td>0.148280</td>\n",
       "      <td>0.058126</td>\n",
       "      <td>0.028470</td>\n",
       "      <td>0.023132</td>\n",
       "      <td>0.0</td>\n",
       "      <td>0.038553</td>\n",
       "      <td>0.067023</td>\n",
       "      <td>0.032622</td>\n",
       "      <td>0.011862</td>\n",
       "      <td>0.004152</td>\n",
       "      <td>...</td>\n",
       "      <td>0.017200</td>\n",
       "      <td>0.022539</td>\n",
       "      <td>0.013049</td>\n",
       "      <td>0.078885</td>\n",
       "      <td>0.014828</td>\n",
       "      <td>0.015421</td>\n",
       "      <td>0.023725</td>\n",
       "      <td>0.024911</td>\n",
       "      <td>0.0</td>\n",
       "      <td>0.0</td>\n",
       "    </tr>\n",
       "    <tr>\n",
       "      <th>4</th>\n",
       "      <td>0.133869</td>\n",
       "      <td>0.048193</td>\n",
       "      <td>0.020750</td>\n",
       "      <td>0.035475</td>\n",
       "      <td>0.0</td>\n",
       "      <td>0.029451</td>\n",
       "      <td>0.046185</td>\n",
       "      <td>0.020750</td>\n",
       "      <td>0.009371</td>\n",
       "      <td>0.002008</td>\n",
       "      <td>...</td>\n",
       "      <td>0.013387</td>\n",
       "      <td>0.025435</td>\n",
       "      <td>0.009371</td>\n",
       "      <td>0.058233</td>\n",
       "      <td>0.006693</td>\n",
       "      <td>0.015395</td>\n",
       "      <td>0.018072</td>\n",
       "      <td>0.018072</td>\n",
       "      <td>0.0</td>\n",
       "      <td>0.0</td>\n",
       "    </tr>\n",
       "    <tr>\n",
       "      <th>5</th>\n",
       "      <td>0.103448</td>\n",
       "      <td>0.029946</td>\n",
       "      <td>0.026316</td>\n",
       "      <td>0.016334</td>\n",
       "      <td>0.0</td>\n",
       "      <td>0.030853</td>\n",
       "      <td>0.072595</td>\n",
       "      <td>0.036298</td>\n",
       "      <td>0.012704</td>\n",
       "      <td>0.003630</td>\n",
       "      <td>...</td>\n",
       "      <td>0.015426</td>\n",
       "      <td>0.023593</td>\n",
       "      <td>0.019964</td>\n",
       "      <td>0.086207</td>\n",
       "      <td>0.017241</td>\n",
       "      <td>0.020871</td>\n",
       "      <td>0.024501</td>\n",
       "      <td>0.023593</td>\n",
       "      <td>0.0</td>\n",
       "      <td>0.0</td>\n",
       "    </tr>\n",
       "    <tr>\n",
       "      <th>...</th>\n",
       "      <td>...</td>\n",
       "      <td>...</td>\n",
       "      <td>...</td>\n",
       "      <td>...</td>\n",
       "      <td>...</td>\n",
       "      <td>...</td>\n",
       "      <td>...</td>\n",
       "      <td>...</td>\n",
       "      <td>...</td>\n",
       "      <td>...</td>\n",
       "      <td>...</td>\n",
       "      <td>...</td>\n",
       "      <td>...</td>\n",
       "      <td>...</td>\n",
       "      <td>...</td>\n",
       "      <td>...</td>\n",
       "      <td>...</td>\n",
       "      <td>...</td>\n",
       "      <td>...</td>\n",
       "      <td>...</td>\n",
       "      <td>...</td>\n",
       "    </tr>\n",
       "    <tr>\n",
       "      <th>170</th>\n",
       "      <td>0.103371</td>\n",
       "      <td>0.034831</td>\n",
       "      <td>0.016854</td>\n",
       "      <td>0.028090</td>\n",
       "      <td>0.0</td>\n",
       "      <td>0.023596</td>\n",
       "      <td>0.053933</td>\n",
       "      <td>0.017978</td>\n",
       "      <td>0.008989</td>\n",
       "      <td>0.005618</td>\n",
       "      <td>...</td>\n",
       "      <td>0.016854</td>\n",
       "      <td>0.022472</td>\n",
       "      <td>0.012360</td>\n",
       "      <td>0.070787</td>\n",
       "      <td>0.006742</td>\n",
       "      <td>0.019101</td>\n",
       "      <td>0.023596</td>\n",
       "      <td>0.021348</td>\n",
       "      <td>0.0</td>\n",
       "      <td>0.0</td>\n",
       "    </tr>\n",
       "    <tr>\n",
       "      <th>171</th>\n",
       "      <td>0.116107</td>\n",
       "      <td>0.034149</td>\n",
       "      <td>0.023335</td>\n",
       "      <td>0.022197</td>\n",
       "      <td>0.0</td>\n",
       "      <td>0.036426</td>\n",
       "      <td>0.056915</td>\n",
       "      <td>0.027319</td>\n",
       "      <td>0.010814</td>\n",
       "      <td>0.005122</td>\n",
       "      <td>...</td>\n",
       "      <td>0.011952</td>\n",
       "      <td>0.022197</td>\n",
       "      <td>0.021628</td>\n",
       "      <td>0.064883</td>\n",
       "      <td>0.009106</td>\n",
       "      <td>0.019920</td>\n",
       "      <td>0.020489</td>\n",
       "      <td>0.015367</td>\n",
       "      <td>0.0</td>\n",
       "      <td>0.0</td>\n",
       "    </tr>\n",
       "    <tr>\n",
       "      <th>172</th>\n",
       "      <td>0.111491</td>\n",
       "      <td>0.034173</td>\n",
       "      <td>0.021786</td>\n",
       "      <td>0.029475</td>\n",
       "      <td>0.0</td>\n",
       "      <td>0.026057</td>\n",
       "      <td>0.057668</td>\n",
       "      <td>0.026057</td>\n",
       "      <td>0.011961</td>\n",
       "      <td>0.004699</td>\n",
       "      <td>...</td>\n",
       "      <td>0.012388</td>\n",
       "      <td>0.024776</td>\n",
       "      <td>0.013669</td>\n",
       "      <td>0.055959</td>\n",
       "      <td>0.010679</td>\n",
       "      <td>0.011534</td>\n",
       "      <td>0.017941</td>\n",
       "      <td>0.015805</td>\n",
       "      <td>0.0</td>\n",
       "      <td>0.0</td>\n",
       "    </tr>\n",
       "    <tr>\n",
       "      <th>173</th>\n",
       "      <td>0.075949</td>\n",
       "      <td>0.026290</td>\n",
       "      <td>0.018500</td>\n",
       "      <td>0.018500</td>\n",
       "      <td>0.0</td>\n",
       "      <td>0.012658</td>\n",
       "      <td>0.055501</td>\n",
       "      <td>0.016553</td>\n",
       "      <td>0.015579</td>\n",
       "      <td>0.009737</td>\n",
       "      <td>...</td>\n",
       "      <td>0.019474</td>\n",
       "      <td>0.026290</td>\n",
       "      <td>0.011685</td>\n",
       "      <td>0.060370</td>\n",
       "      <td>0.008763</td>\n",
       "      <td>0.010711</td>\n",
       "      <td>0.024343</td>\n",
       "      <td>0.016553</td>\n",
       "      <td>0.0</td>\n",
       "      <td>0.0</td>\n",
       "    </tr>\n",
       "    <tr>\n",
       "      <th>174</th>\n",
       "      <td>0.114054</td>\n",
       "      <td>0.036309</td>\n",
       "      <td>0.025203</td>\n",
       "      <td>0.025203</td>\n",
       "      <td>0.0</td>\n",
       "      <td>0.027339</td>\n",
       "      <td>0.068347</td>\n",
       "      <td>0.027766</td>\n",
       "      <td>0.015378</td>\n",
       "      <td>0.004699</td>\n",
       "      <td>...</td>\n",
       "      <td>0.010679</td>\n",
       "      <td>0.023494</td>\n",
       "      <td>0.012388</td>\n",
       "      <td>0.058095</td>\n",
       "      <td>0.009398</td>\n",
       "      <td>0.014951</td>\n",
       "      <td>0.019650</td>\n",
       "      <td>0.014097</td>\n",
       "      <td>0.0</td>\n",
       "      <td>0.0</td>\n",
       "    </tr>\n",
       "  </tbody>\n",
       "</table>\n",
       "<p>146 rows × 95 columns</p>\n",
       "</div>"
      ],
      "text/plain": [
       "           aa       aaa       aac       aag  aar       aat        ac  \\\n",
       "0    0.163382  0.059133  0.024967  0.035042  0.0  0.043802  0.063513   \n",
       "1    0.150594  0.057684  0.021576  0.027741  0.0  0.043153  0.058124   \n",
       "3    0.148280  0.058126  0.028470  0.023132  0.0  0.038553  0.067023   \n",
       "4    0.133869  0.048193  0.020750  0.035475  0.0  0.029451  0.046185   \n",
       "5    0.103448  0.029946  0.026316  0.016334  0.0  0.030853  0.072595   \n",
       "..        ...       ...       ...       ...  ...       ...       ...   \n",
       "170  0.103371  0.034831  0.016854  0.028090  0.0  0.023596  0.053933   \n",
       "171  0.116107  0.034149  0.023335  0.022197  0.0  0.036426  0.056915   \n",
       "172  0.111491  0.034173  0.021786  0.029475  0.0  0.026057  0.057668   \n",
       "173  0.075949  0.026290  0.018500  0.018500  0.0  0.012658  0.055501   \n",
       "174  0.114054  0.036309  0.025203  0.025203  0.0  0.027339  0.068347   \n",
       "\n",
       "          aca       acc       acg  ...       tgc       tgg       tgt  \\\n",
       "0    0.030223  0.014017  0.002628  ...  0.009636  0.020149  0.010951   \n",
       "1    0.025099  0.013210  0.003523  ...  0.014091  0.018494  0.013650   \n",
       "3    0.032622  0.011862  0.004152  ...  0.017200  0.022539  0.013049   \n",
       "4    0.020750  0.009371  0.002008  ...  0.013387  0.025435  0.009371   \n",
       "5    0.036298  0.012704  0.003630  ...  0.015426  0.023593  0.019964   \n",
       "..        ...       ...       ...  ...       ...       ...       ...   \n",
       "170  0.017978  0.008989  0.005618  ...  0.016854  0.022472  0.012360   \n",
       "171  0.027319  0.010814  0.005122  ...  0.011952  0.022197  0.021628   \n",
       "172  0.026057  0.011961  0.004699  ...  0.012388  0.024776  0.013669   \n",
       "173  0.016553  0.015579  0.009737  ...  0.019474  0.026290  0.011685   \n",
       "174  0.027766  0.015378  0.004699  ...  0.010679  0.023494  0.012388   \n",
       "\n",
       "           tt       tta       ttc       ttg       ttt   yg  ygc  \n",
       "0    0.063951  0.015331  0.011827  0.020587  0.016207  0.0  0.0  \n",
       "1    0.069573  0.020696  0.011449  0.014971  0.022457  0.0  0.0  \n",
       "3    0.078885  0.014828  0.015421  0.023725  0.024911  0.0  0.0  \n",
       "4    0.058233  0.006693  0.015395  0.018072  0.018072  0.0  0.0  \n",
       "5    0.086207  0.017241  0.020871  0.024501  0.023593  0.0  0.0  \n",
       "..        ...       ...       ...       ...       ...  ...  ...  \n",
       "170  0.070787  0.006742  0.019101  0.023596  0.021348  0.0  0.0  \n",
       "171  0.064883  0.009106  0.019920  0.020489  0.015367  0.0  0.0  \n",
       "172  0.055959  0.010679  0.011534  0.017941  0.015805  0.0  0.0  \n",
       "173  0.060370  0.008763  0.010711  0.024343  0.016553  0.0  0.0  \n",
       "174  0.058095  0.009398  0.014951  0.019650  0.014097  0.0  0.0  \n",
       "\n",
       "[146 rows x 95 columns]"
      ]
     },
     "execution_count": 6,
     "metadata": {},
     "output_type": "execute_result"
    }
   ],
   "source": [
    "df2 = df.drop_duplicates(keep=\"last\")\n",
    "df2"
   ]
  },
  {
   "cell_type": "code",
   "execution_count": 59,
   "metadata": {},
   "outputs": [],
   "source": [
    "def Diff(li1, li2): \n",
    "    li_dif = [i for i in li1 + li2 if i not in li1 or i not in li2] \n",
    "    return li_dif\n",
    "\n",
    "kept_viruses = df2.index.values\n",
    "all_viruses = df.index.values\n",
    "dropped_viruses = Diff(list(kept_viruses), list(all_viruses))"
   ]
  },
  {
   "cell_type": "code",
   "execution_count": 7,
   "metadata": {},
   "outputs": [],
   "source": [
    "bat_len = len(get_gene_sequences(\"datasets/bat_flu.fa\"))\n",
    "penguin_len = len(get_gene_sequences(\"datasets/penguin_flu.fa\"))\n",
    "zeros = [0]*bat_len\n",
    "labels1 = np.append(zeros, [1]*penguin_len, axis=None)"
   ]
  },
  {
   "cell_type": "code",
   "execution_count": 28,
   "metadata": {},
   "outputs": [
    {
     "data": {
      "text/plain": [
       "array([0, 0, 0, 0, 0, 0, 0, 0, 0, 0, 0, 0, 0, 0, 0, 0, 0, 0, 0, 0, 0, 0,\n",
       "       0, 0, 0, 0, 0, 0, 0, 0, 0, 0, 0, 0, 0, 0, 0, 0, 0, 0, 0, 0, 0, 0,\n",
       "       0, 0, 0, 0, 0, 0, 0, 0, 0, 0, 1, 1, 1, 1, 1, 1, 1, 1, 1, 1, 1, 1,\n",
       "       1, 1, 1, 1, 1, 1, 1, 1, 1, 1, 1, 1, 1, 1, 1, 1, 1, 1, 1, 1, 1, 1,\n",
       "       1, 1, 1, 1, 1, 1, 1, 1, 1, 1, 1, 1, 1, 1, 1, 1, 1, 1, 1, 1, 1, 1,\n",
       "       1, 1, 1, 1, 1, 1, 1, 1, 1, 1, 1, 1, 1, 1, 1, 1, 1, 1, 1, 1, 1, 1,\n",
       "       1, 1, 1, 1, 1, 1, 1, 1, 1, 1, 1, 1, 1, 1])"
      ]
     },
     "execution_count": 28,
     "metadata": {},
     "output_type": "execute_result"
    }
   ],
   "source": [
    "plot_labels = labels1[kept_viruses]\n",
    "plot_labels"
   ]
  },
  {
   "cell_type": "code",
   "execution_count": 111,
   "metadata": {},
   "outputs": [
    {
     "name": "stderr",
     "output_type": "stream",
     "text": [
      "/Users/zhiwen/Applications/miniconda3/lib/python3.7/site-packages/ipykernel_launcher.py:1: FutureWarning: Method .as_matrix will be removed in a future version. Use .values instead.\n",
      "  \"\"\"Entry point for launching an IPython kernel.\n"
     ]
    },
    {
     "name": "stdout",
     "output_type": "stream",
     "text": [
      "epoch = 1 : E = 0.1183423930\n",
      "epoch = 2 : E = 0.1168283272\n",
      "epoch = 3 : E = 0.1138299177\n",
      "epoch = 4 : E = 0.0932908615\n",
      "epoch = 5 : E = 0.0785206957\n",
      "epoch = 6 : E = 0.0759335670\n",
      "epoch = 7 : E = 0.0746315268\n",
      "epoch = 8 : E = 0.0676048298\n",
      "epoch = 9 : E = 0.0660193190\n",
      "epoch = 10 : E = 0.0649323269\n",
      "epoch = 11 : E = 0.0600209367\n",
      "epoch = 12 : E = 0.0559691925\n",
      "epoch = 13 : E = 0.0461838268\n",
      "epoch = 14 : E = 0.0350060310\n",
      "epoch = 15 : E = 0.0339631008\n",
      "epoch = 16 : E = 0.0314987013\n",
      "epoch = 17 : E = 0.0313420483\n",
      "epoch = 18 : E = 0.0271701865\n",
      "epoch = 19 : E = 0.0270742136\n",
      "epoch = 20 : E = 0.0270694311\n",
      "epoch = 21 : E = 0.0269587611\n",
      "epoch = 22 : E = 0.0269403509\n",
      "epoch = 23 : E = 0.0269000265\n",
      "epoch = 24 : E = 0.0252992661\n",
      "epoch = 25 : E = 0.0252858048\n",
      "epoch = 26 : E = 0.0252377061\n",
      "epoch = 27 : E = 0.0251927367\n",
      "epoch = 28 : E = 0.0248854138\n",
      "epoch = 29 : E = 0.0248787183\n",
      "epoch = 30 : E = 0.0243679611\n",
      "epoch = 31 : E = 0.0243598242\n",
      "epoch = 32 : E = 0.0243167318\n",
      "epoch = 33 : E = 0.0243031587\n",
      "epoch = 34 : E = 0.0242196886\n",
      "epoch = 35 : E = 0.0241738163\n",
      "epoch = 36 : E = 0.0241558117\n",
      "epoch = 37 : E = 0.0241315443\n",
      "epoch = 38 : E = 0.0241108521\n",
      "epoch = 39 : E = 0.0240630507\n",
      "epoch = 40 : E = 0.0240362746\n",
      "epoch = 41 : E = 0.0240061923\n",
      "epoch = 42 : E = 0.0239962743\n",
      "epoch = 43 : E = 0.0239916525\n",
      "epoch = 44 : E = 0.0239894000\n",
      "epoch = 45 : E = 0.0239835611\n",
      "epoch = 46 : E = 0.0239819217\n",
      "epoch = 47 : E = 0.0239782828\n",
      "epoch = 48 : E = 0.0239763666\n",
      "epoch = 49 : E = 0.0239749206\n",
      "epoch = 50 : E = 0.0239740435\n",
      "epoch = 51 : E = 0.0239733918\n",
      "epoch = 52 : E = 0.0239719975\n",
      "epoch = 53 : E = 0.0239709689\n",
      "epoch = 54 : E = 0.0239691077\n",
      "epoch = 55 : E = 0.0239576120\n",
      "epoch = 56 : E = 0.0239166663\n",
      "epoch = 57 : E = 0.0239138186\n",
      "epoch = 58 : E = 0.0239085924\n",
      "epoch = 59 : E = 0.0239084173\n",
      "epoch = 60 : E = 0.0239075882\n",
      "epoch = 61 : E = 0.0239073960\n",
      "epoch = 62 : E = 0.0239073755\n",
      "epoch = 63 : E = 0.0239070282\n",
      "epoch = 64 : E = 0.0239069158\n",
      "epoch = 65 : E = 0.0239068549\n",
      "epoch = 66 : E = 0.0239066944\n",
      "epoch = 67 : E = 0.0239065878\n",
      "epoch = 68 : E = 0.0239064798\n",
      "epoch = 69 : E = 0.0239063217\n",
      "epoch = 70 : E = 0.0239061686\n",
      "epoch = 71 : E = 0.0239058739\n",
      "epoch = 72 : E = 0.0239057738\n",
      "epoch = 73 : E = 0.0239057281\n",
      "epoch = 74 : E = 0.0239056043\n",
      "epoch = 75 : E = 0.0239055253\n",
      "epoch = 76 : E = 0.0239054570\n",
      "epoch = 77 : E = 0.0239054144\n",
      "epoch = 78 : E = 0.0239052863\n",
      "epoch = 79 : E = 0.0239051951\n",
      "epoch = 80 : E = 0.0239051117\n",
      "epoch = 81 : E = 0.0239050561\n",
      "epoch = 82 : E = 0.0239049063\n",
      "epoch = 83 : E = 0.0239047935\n",
      "epoch = 84 : E = 0.0239046920\n",
      "epoch = 85 : E = 0.0239046313\n",
      "epoch = 86 : E = 0.0239044421\n",
      "epoch = 87 : E = 0.0239043135\n",
      "epoch = 88 : E = 0.0239042115\n",
      "epoch = 89 : E = 0.0239041891\n",
      "epoch = 90 : E = 0.0239039325\n",
      "epoch = 91 : E = 0.0239038233\n",
      "epoch = 92 : E = 0.0239037804\n",
      "epoch = 93 : E = 0.0239035928\n",
      "epoch = 94 : E = 0.0239035091\n",
      "epoch = 95 : E = 0.0239035023\n",
      "epoch = 96 : E = 0.0239033380\n",
      "epoch = 97 : E = 0.0239032981\n",
      "epoch = 98 : E = 0.0239032236\n",
      "epoch = 99 : E = 0.0239031869\n",
      "epoch = 100 : E = 0.0239031454\n",
      "epoch = 101 : E = 0.0239031175\n",
      "epoch = 102 : E = 0.0239030868\n",
      "epoch = 103 : E = 0.0239030575\n",
      "epoch = 104 : E = 0.0239030081\n",
      "epoch = 105 : E = 0.0239016582\n",
      "epoch = 106 : E = 0.0239014627\n",
      "epoch = 107 : E = 0.0238937525\n",
      "epoch = 108 : E = 0.0238932505\n",
      "epoch = 109 : E = 0.0238929785\n",
      "epoch = 110 : E = 0.0238929262\n",
      "epoch = 111 : E = 0.0238929150\n",
      "epoch = 112 : E = 0.0238928925\n",
      "epoch = 113 : E = 0.0238928863\n",
      "epoch = 114 : E = 0.0238928825\n",
      "epoch = 115 : E = 0.0238928803\n",
      "epoch = 116 : E = 0.0238928797\n",
      "epoch = 117 : E = 0.0238928736\n",
      "epoch = 118 : E = 0.0238928716\n",
      "epoch = 119 : E = 0.0238928700\n",
      "epoch = 120 : E = 0.0238928689\n",
      "epoch = 121 : E = 0.0238928683\n",
      "epoch = 122 : E = 0.0238928665\n",
      "epoch = 123 : E = 0.0238928656\n",
      "epoch = 124 : E = 0.0238928648\n",
      "epoch = 125 : E = 0.0238928642\n",
      "epoch = 126 : E = 0.0238928638\n",
      "epoch = 127 : E = 0.0238928636\n",
      "epoch = 128 : E = 0.0238928627\n",
      "epoch = 129 : E = 0.0238928623\n",
      "epoch = 130 : E = 0.0238928620\n",
      "epoch = 131 : E = 0.0238928617\n",
      "epoch = 132 : E = 0.0238928614\n",
      "epoch = 133 : E = 0.0238928613\n",
      "TolFun exceeded: Optimisation terminated\n"
     ]
    }
   ],
   "source": [
    "X = df2.as_matrix(columns = df2.columns)\n",
    "[y, E] = sammon(X,2)"
   ]
  },
  {
   "cell_type": "code",
   "execution_count": 114,
   "metadata": {},
   "outputs": [
    {
     "name": "stderr",
     "output_type": "stream",
     "text": [
      "/Users/zhiwen/Applications/miniconda3/lib/python3.7/site-packages/seaborn/_decorators.py:43: FutureWarning: Pass the following variables as keyword args: x, y. From version 0.12, the only valid positional argument will be `data`, and passing other arguments without an explicit keyword will result in an error or misinterpretation.\n",
      "  FutureWarning\n"
     ]
    },
    {
     "data": {
      "image/png": "[encoded data removed]",
      "text/plain": [
       "<Figure size 432x288 with 1 Axes>"
      ]
     },
     "metadata": {
      "needs_background": "light"
     },
     "output_type": "display_data"
    }
   ],
   "source": [
    "sammon_plot(y,plot_labels)"
   ]
  },
  {
   "cell_type": "code",
   "execution_count": 116,
   "metadata": {},
   "outputs": [],
   "source": [
    "def PCA_plot(x,y,n_dim):\n",
    "    \n",
    "    x = StandardScaler().fit_transform(x)\n",
    "    pca = PCA(n_components=n_dim)\n",
    "    principalComponents = pca.fit_transform(x)\n",
    "    principalDf = pd.DataFrame(data = principalComponents,columns = ['principal component 1', 'principal component 2'])\n",
    "    finalDf = pd.concat([principalDf, pd.Series(labels1)], axis = 1)\n",
    "    finalDf.columns = ['principal component 1', 'principal component 2','target']\n",
    "    \n",
    "    fig = plt.figure(figsize = (8,8))\n",
    "    ax = fig.add_subplot(1,1,1) \n",
    "    ax.set_xlabel('Principal Component 1', fontsize = 15)\n",
    "    ax.set_ylabel('Principal Component 2', fontsize = 15)\n",
    "    ax.set_title('2 component PCA', fontsize = 20)\n",
    "    targets = [0,1]\n",
    "    colors = ['r', 'g']\n",
    "    for target, color in zip(targets,colors):\n",
    "        indicesToKeep = finalDf['target'] == target\n",
    "        ax.scatter(finalDf.loc[indicesToKeep, 'principal component 1']\n",
    "                   , finalDf.loc[indicesToKeep, 'principal component 2']\n",
    "                   , c = color)\n",
    "    ax.legend(targets)\n",
    "    plt.show()"
   ]
  },
  {
   "cell_type": "code",
   "execution_count": 117,
   "metadata": {},
   "outputs": [
    {
     "data": {
      "image/png": "[encoded data removed]",
      "text/plain": [
       "<Figure size 576x576 with 1 Axes>"
      ]
     },
     "metadata": {
      "needs_background": "light"
     },
     "output_type": "display_data"
    }
   ],
   "source": [
    "# PCA:\n",
    "\n",
    "PCA_plot(df,labels1,2)"
   ]
  },
  {
   "cell_type": "code",
   "execution_count": 118,
   "metadata": {},
   "outputs": [],
   "source": [
    "# x: sample features\n",
    "# y: labels\n",
    "def tsne_plot(x,y):\n",
    "    tsne = TSNE()\n",
    "    X_embedded = tsne.fit_transform(x)\n",
    "    sns.scatterplot(X_embedded[:,0], X_embedded[:,1], hue=y, legend='full')"
   ]
  },
  {
   "cell_type": "code",
   "execution_count": 120,
   "metadata": {
    "scrolled": true
   },
   "outputs": [
    {
     "name": "stderr",
     "output_type": "stream",
     "text": [
      "/Users/zhiwen/Applications/miniconda3/lib/python3.7/site-packages/seaborn/_decorators.py:43: FutureWarning: Pass the following variables as keyword args: x, y. From version 0.12, the only valid positional argument will be `data`, and passing other arguments without an explicit keyword will result in an error or misinterpretation.\n",
      "  FutureWarning\n"
     ]
    },
    {
     "data": {
      "image/png": "[encoded data removed]",
      "text/plain": [
       "<Figure size 432x288 with 1 Axes>"
      ]
     },
     "metadata": {
      "needs_background": "light"
     },
     "output_type": "display_data"
    }
   ],
   "source": [
    "tsne_plot(df,labels1)"
   ]
  },
  {
   "cell_type": "code",
   "execution_count": 45,
   "metadata": {},
   "outputs": [],
   "source": [
    "# change the following parameters to user inputs\n",
    "paths = [\"datasets/bat_flu.fa\",\"datasets/penguin_flu.fa\"]\n",
    "k_min = 2\n",
    "k_max = 3\n",
    "num_class = 2\n",
    "cov_type = 'full'\n",
    "predictions1_1 = get_predictions(paths,k_min,k_max,num_class,cov_type)"
   ]
  },
  {
   "cell_type": "code",
   "execution_count": 46,
   "metadata": {},
   "outputs": [
    {
     "data": {
      "text/plain": [
       "array([0, 0, 0, 0, 1, 1, 1, 0, 0, 0, 0, 0, 1, 1, 1, 0, 0, 1, 0, 0, 0, 0,\n",
       "       0, 0, 0, 0, 0, 0, 0, 1, 1, 0, 0, 0, 0, 0, 1, 1, 0, 0, 0, 0, 0, 0,\n",
       "       1, 1, 1, 0, 0, 0, 0, 0, 1, 1, 1, 0, 0, 0, 0, 0, 1, 1, 1, 0, 1, 1,\n",
       "       1, 1, 1, 1, 1, 1, 1, 1, 1, 1, 1, 1, 1, 1, 1, 1, 1, 1, 1, 1, 1, 1,\n",
       "       1, 1, 1, 1, 1, 1, 1, 1, 0, 1, 1, 0, 0, 0, 1, 1, 0, 1, 1, 1, 1, 1,\n",
       "       1, 1, 1, 1, 1, 1, 1, 1, 1, 1, 0, 1, 1, 1, 1, 1, 1, 1, 1, 1, 1, 1,\n",
       "       1, 1, 1, 1, 1, 1, 1, 1, 1, 1, 1, 1, 1, 1, 1, 1, 1, 1, 1, 1, 1, 1,\n",
       "       1, 1, 1, 1, 1, 1, 1, 1, 1, 1, 1, 1, 1, 1, 1, 1, 1, 1, 1, 1, 1])"
      ]
     },
     "execution_count": 46,
     "metadata": {},
     "output_type": "execute_result"
    }
   ],
   "source": [
    "predictions1_1"
   ]
  },
  {
   "cell_type": "code",
   "execution_count": 47,
   "metadata": {},
   "outputs": [
    {
     "data": {
      "text/plain": [
       "array([0, 0, 0, 0, 0, 0, 0, 0, 0, 0, 0, 0, 0, 0, 0, 0, 0, 0, 0, 0, 0, 0,\n",
       "       0, 0, 0, 0, 0, 0, 0, 0, 0, 0, 0, 0, 0, 0, 0, 0, 0, 0, 0, 0, 0, 0,\n",
       "       0, 0, 0, 0, 0, 0, 0, 0, 0, 0, 0, 0, 0, 0, 0, 0, 0, 0, 0, 0, 1, 1,\n",
       "       1, 1, 1, 1, 1, 1, 1, 1, 1, 1, 1, 1, 1, 1, 1, 1, 1, 1, 1, 1, 1, 1,\n",
       "       1, 1, 1, 1, 1, 1, 1, 1, 1, 1, 1, 1, 1, 1, 1, 1, 1, 1, 1, 1, 1, 1,\n",
       "       1, 1, 1, 1, 1, 1, 1, 1, 1, 1, 1, 1, 1, 1, 1, 1, 1, 1, 1, 1, 1, 1,\n",
       "       1, 1, 1, 1, 1, 1, 1, 1, 1, 1, 1, 1, 1, 1, 1, 1, 1, 1, 1, 1, 1, 1,\n",
       "       1, 1, 1, 1, 1, 1, 1, 1, 1, 1, 1, 1, 1, 1, 1, 1, 1, 1, 1, 1, 1])"
      ]
     },
     "execution_count": 47,
     "metadata": {},
     "output_type": "execute_result"
    }
   ],
   "source": [
    "labels1"
   ]
  },
  {
   "cell_type": "code",
   "execution_count": 48,
   "metadata": {},
   "outputs": [
    {
     "data": {
      "text/plain": [
       "0.8514285714285714"
      ]
     },
     "execution_count": 48,
     "metadata": {},
     "output_type": "execute_result"
    }
   ],
   "source": [
    "accuracy1_1 = 1 - sum(abs(labels1 - predictions1_1))/(bat_len+penguin_len)\n",
    "accuracy1_1"
   ]
  },
  {
   "cell_type": "code",
   "execution_count": 49,
   "metadata": {},
   "outputs": [
    {
     "data": {
      "text/plain": [
       "array([0, 0, 0, 1, 1, 0, 0, 0, 0, 1, 1, 1, 0, 0, 1, 0, 0, 0, 0, 0, 0, 0,\n",
       "       0, 0, 0, 0, 1, 1, 0, 0, 0, 0, 0, 1, 1, 0, 0, 0, 0, 0, 0, 1, 1, 1,\n",
       "       0, 0, 0, 0, 0, 0, 1, 1, 1, 0, 1, 1, 1, 1, 1, 1, 1, 1, 1, 1, 1, 1,\n",
       "       1, 1, 1, 1, 1, 1, 1, 1, 1, 1, 1, 0, 1, 0, 0, 1, 0, 1, 1, 1, 1, 1,\n",
       "       1, 1, 1, 1, 1, 1, 1, 1, 1, 1, 0, 1, 1, 1, 1, 1, 1, 1, 1, 1, 1, 1,\n",
       "       1, 1, 1, 1, 1, 1, 1, 1, 1, 1, 1, 1, 1, 1, 1, 1, 1, 1, 1, 1, 1, 1,\n",
       "       1, 1, 1, 1, 1, 1, 1, 1, 1, 1, 1, 1, 1, 1])"
      ]
     },
     "execution_count": 49,
     "metadata": {},
     "output_type": "execute_result"
    }
   ],
   "source": [
    "prediction_labels = predictions1_1[kept_viruses]\n",
    "prediction_labels"
   ]
  },
  {
   "cell_type": "code",
   "execution_count": 58,
   "metadata": {},
   "outputs": [
    {
     "data": {
      "image/png": "[encoded data removed]",
      "text/plain": [
       "<Figure size 432x288 with 1 Axes>"
      ]
     },
     "metadata": {
      "needs_background": "light"
     },
     "output_type": "display_data"
    }
   ],
   "source": [
    "sammon_plot(y,prediction_labels,2)"
   ]
  },
  {
   "cell_type": "code",
   "execution_count": 60,
   "metadata": {},
   "outputs": [],
   "source": [
    "k_min = 4\n",
    "k_max = 5\n",
    "num_class = 2\n",
    "cov_type = 'full'\n",
    "predictions1_2 = get_predictions(paths,k_min,k_max,num_class,cov_type)"
   ]
  },
  {
   "cell_type": "code",
   "execution_count": 61,
   "metadata": {},
   "outputs": [
    {
     "name": "stderr",
     "output_type": "stream",
     "text": [
      "/Users/zhiwen/Applications/miniconda3/lib/python3.7/site-packages/ipykernel_launcher.py:4: FutureWarning: Method .as_matrix will be removed in a future version. Use .values instead.\n",
      "  after removing the cwd from sys.path.\n"
     ]
    },
    {
     "name": "stdout",
     "output_type": "stream",
     "text": [
      "epoch = 1 : E = 0.2323939684\n",
      "epoch = 2 : E = 0.2288647548\n",
      "epoch = 3 : E = 0.2250787391\n",
      "epoch = 4 : E = 0.1902715685\n",
      "epoch = 5 : E = 0.1683472439\n",
      "epoch = 6 : E = 0.1454737429\n",
      "epoch = 7 : E = 0.1433070371\n",
      "epoch = 8 : E = 0.1392142396\n",
      "epoch = 9 : E = 0.1365588827\n",
      "epoch = 10 : E = 0.1182822138\n",
      "epoch = 11 : E = 0.1149158555\n",
      "epoch = 12 : E = 0.1121567183\n",
      "epoch = 13 : E = 0.1118915406\n",
      "epoch = 14 : E = 0.1112941204\n",
      "epoch = 15 : E = 0.1110799049\n",
      "epoch = 16 : E = 0.1038570127\n",
      "epoch = 17 : E = 0.0990887205\n",
      "epoch = 18 : E = 0.0989779899\n",
      "epoch = 19 : E = 0.0751285668\n",
      "epoch = 20 : E = 0.0736235057\n",
      "epoch = 21 : E = 0.0705262483\n",
      "epoch = 22 : E = 0.0605240276\n",
      "epoch = 23 : E = 0.0604929197\n",
      "epoch = 24 : E = 0.0564104599\n",
      "epoch = 25 : E = 0.0554341446\n",
      "epoch = 26 : E = 0.0546765263\n",
      "epoch = 27 : E = 0.0537508254\n",
      "epoch = 28 : E = 0.0537458064\n",
      "epoch = 29 : E = 0.0536531085\n",
      "epoch = 30 : E = 0.0535518338\n",
      "epoch = 31 : E = 0.0533127691\n",
      "epoch = 32 : E = 0.0532835762\n",
      "epoch = 33 : E = 0.0530219694\n",
      "epoch = 34 : E = 0.0529964001\n",
      "epoch = 35 : E = 0.0527467043\n",
      "epoch = 36 : E = 0.0527380636\n",
      "epoch = 37 : E = 0.0526773952\n",
      "epoch = 38 : E = 0.0525995643\n",
      "epoch = 39 : E = 0.0525697274\n",
      "epoch = 40 : E = 0.0525649962\n",
      "epoch = 41 : E = 0.0525268665\n",
      "epoch = 42 : E = 0.0525019522\n",
      "epoch = 43 : E = 0.0524840267\n",
      "epoch = 44 : E = 0.0524676734\n",
      "epoch = 45 : E = 0.0524424068\n",
      "epoch = 46 : E = 0.0524397278\n",
      "epoch = 47 : E = 0.0524117989\n",
      "epoch = 48 : E = 0.0523904813\n",
      "epoch = 49 : E = 0.0523785540\n",
      "epoch = 50 : E = 0.0523762563\n",
      "epoch = 51 : E = 0.0523626582\n",
      "epoch = 52 : E = 0.0523527423\n",
      "epoch = 53 : E = 0.0523449698\n",
      "epoch = 54 : E = 0.0523436053\n",
      "epoch = 55 : E = 0.0523357189\n",
      "epoch = 56 : E = 0.0523307093\n",
      "epoch = 57 : E = 0.0523274332\n",
      "epoch = 58 : E = 0.0523263280\n",
      "epoch = 59 : E = 0.0523224105\n",
      "epoch = 60 : E = 0.0523196296\n",
      "epoch = 61 : E = 0.0523174745\n",
      "epoch = 62 : E = 0.0523160407\n",
      "epoch = 63 : E = 0.0523133312\n",
      "epoch = 64 : E = 0.0523114380\n",
      "epoch = 65 : E = 0.0523102013\n",
      "epoch = 66 : E = 0.0523078630\n",
      "epoch = 67 : E = 0.0523062015\n",
      "epoch = 68 : E = 0.0523049754\n",
      "epoch = 69 : E = 0.0523029204\n",
      "epoch = 70 : E = 0.0523013957\n",
      "epoch = 71 : E = 0.0523001716\n",
      "epoch = 72 : E = 0.0522983169\n",
      "epoch = 73 : E = 0.0522969618\n",
      "epoch = 74 : E = 0.0522957784\n",
      "epoch = 75 : E = 0.0522941980\n",
      "epoch = 76 : E = 0.0522940730\n",
      "epoch = 77 : E = 0.0522919179\n",
      "epoch = 78 : E = 0.0522905177\n",
      "epoch = 79 : E = 0.0522902320\n",
      "epoch = 80 : E = 0.0522883156\n",
      "epoch = 81 : E = 0.0522870665\n",
      "epoch = 82 : E = 0.0522864721\n",
      "epoch = 83 : E = 0.0522847361\n",
      "epoch = 84 : E = 0.0522834189\n",
      "epoch = 85 : E = 0.0522822017\n",
      "epoch = 86 : E = 0.0522803463\n",
      "epoch = 87 : E = 0.0522802725\n",
      "epoch = 88 : E = 0.0522779634\n",
      "epoch = 89 : E = 0.0522765966\n",
      "epoch = 90 : E = 0.0522765797\n",
      "epoch = 91 : E = 0.0522745763\n",
      "epoch = 92 : E = 0.0522731842\n",
      "epoch = 93 : E = 0.0522727284\n",
      "epoch = 94 : E = 0.0522705524\n",
      "epoch = 95 : E = 0.0522688838\n",
      "epoch = 96 : E = 0.0522676765\n",
      "epoch = 97 : E = 0.0522659211\n",
      "epoch = 98 : E = 0.0522651960\n",
      "epoch = 99 : E = 0.0522646745\n",
      "epoch = 100 : E = 0.0522501825\n",
      "epoch = 101 : E = 0.0522473466\n",
      "epoch = 102 : E = 0.0522348514\n",
      "epoch = 103 : E = 0.0522257684\n",
      "epoch = 104 : E = 0.0522138078\n",
      "epoch = 105 : E = 0.0521961264\n",
      "epoch = 106 : E = 0.0521668623\n",
      "epoch = 107 : E = 0.0521098279\n",
      "epoch = 108 : E = 0.0520781277\n",
      "epoch = 109 : E = 0.0520326272\n",
      "epoch = 110 : E = 0.0520028267\n",
      "epoch = 111 : E = 0.0519867740\n",
      "epoch = 112 : E = 0.0519764484\n",
      "epoch = 113 : E = 0.0519716593\n",
      "epoch = 114 : E = 0.0519623007\n",
      "epoch = 115 : E = 0.0519565800\n",
      "epoch = 116 : E = 0.0519554274\n",
      "epoch = 117 : E = 0.0519480383\n",
      "epoch = 118 : E = 0.0519427609\n",
      "epoch = 119 : E = 0.0519416780\n",
      "epoch = 120 : E = 0.0519339592\n",
      "epoch = 121 : E = 0.0519287345\n",
      "epoch = 122 : E = 0.0519246415\n",
      "epoch = 123 : E = 0.0519112274\n",
      "epoch = 124 : E = 0.0519001415\n",
      "epoch = 125 : E = 0.0518540142\n",
      "epoch = 126 : E = 0.0518465543\n",
      "epoch = 127 : E = 0.0518187625\n",
      "epoch = 128 : E = 0.0518090438\n",
      "epoch = 129 : E = 0.0517979930\n",
      "epoch = 130 : E = 0.0517828819\n",
      "epoch = 131 : E = 0.0517646545\n",
      "epoch = 132 : E = 0.0517282846\n",
      "epoch = 133 : E = 0.0517160838\n",
      "epoch = 134 : E = 0.0516928078\n",
      "epoch = 135 : E = 0.0516914522\n",
      "epoch = 136 : E = 0.0516301900\n",
      "epoch = 137 : E = 0.0515164840\n",
      "epoch = 138 : E = 0.0514876614\n",
      "epoch = 139 : E = 0.0514857998\n",
      "epoch = 140 : E = 0.0514640152\n",
      "epoch = 141 : E = 0.0514537792\n",
      "epoch = 142 : E = 0.0514480664\n",
      "epoch = 143 : E = 0.0514365691\n",
      "epoch = 144 : E = 0.0514294044\n",
      "epoch = 145 : E = 0.0514262426\n",
      "epoch = 146 : E = 0.0514191413\n",
      "epoch = 147 : E = 0.0514146507\n",
      "epoch = 148 : E = 0.0514128492\n",
      "epoch = 149 : E = 0.0514073607\n",
      "epoch = 150 : E = 0.0514036697\n",
      "epoch = 151 : E = 0.0514024861\n",
      "epoch = 152 : E = 0.0513978586\n",
      "epoch = 153 : E = 0.0513948689\n",
      "epoch = 154 : E = 0.0513942345\n",
      "epoch = 155 : E = 0.0513905027\n",
      "epoch = 156 : E = 0.0513881033\n",
      "epoch = 157 : E = 0.0513863731\n",
      "epoch = 158 : E = 0.0513851072\n",
      "epoch = 159 : E = 0.0513833122\n",
      "epoch = 160 : E = 0.0513820887\n",
      "epoch = 161 : E = 0.0513816454\n",
      "epoch = 162 : E = 0.0513802933\n",
      "epoch = 163 : E = 0.0513794678\n",
      "epoch = 164 : E = 0.0513788878\n",
      "epoch = 165 : E = 0.0513785424\n",
      "epoch = 166 : E = 0.0513779531\n",
      "epoch = 167 : E = 0.0513775761\n",
      "epoch = 168 : E = 0.0513774920\n",
      "epoch = 169 : E = 0.0513770554\n",
      "epoch = 170 : E = 0.0513767856\n",
      "epoch = 171 : E = 0.0513765960\n",
      "epoch = 172 : E = 0.0513764644\n",
      "epoch = 173 : E = 0.0513762600\n",
      "epoch = 174 : E = 0.0513761179\n",
      "epoch = 175 : E = 0.0513760419\n",
      "epoch = 176 : E = 0.0513758762\n",
      "epoch = 177 : E = 0.0513757648\n",
      "epoch = 178 : E = 0.0513757218\n",
      "epoch = 179 : E = 0.0513755867\n",
      "epoch = 180 : E = 0.0513754970\n",
      "epoch = 181 : E = 0.0513754851\n",
      "epoch = 182 : E = 0.0513753701\n",
      "epoch = 183 : E = 0.0513752972\n",
      "epoch = 184 : E = 0.0513752431\n",
      "epoch = 185 : E = 0.0513752112\n",
      "epoch = 186 : E = 0.0513751458\n",
      "epoch = 187 : E = 0.0513750970\n",
      "epoch = 188 : E = 0.0513750840\n",
      "epoch = 189 : E = 0.0513750072\n",
      "epoch = 190 : E = 0.0513749438\n",
      "epoch = 191 : E = 0.0513749222\n",
      "epoch = 192 : E = 0.0513748187\n",
      "epoch = 193 : E = 0.0513747469\n",
      "epoch = 194 : E = 0.0513747086\n",
      "epoch = 195 : E = 0.0513746125\n",
      "epoch = 196 : E = 0.0513745441\n",
      "epoch = 197 : E = 0.0513745105\n",
      "epoch = 198 : E = 0.0513744262\n",
      "epoch = 199 : E = 0.0513743693\n",
      "epoch = 200 : E = 0.0513743624\n",
      "epoch = 201 : E = 0.0513742911\n",
      "epoch = 202 : E = 0.0513742431\n",
      "epoch = 203 : E = 0.0513742046\n",
      "epoch = 204 : E = 0.0513741658\n",
      "epoch = 205 : E = 0.0513741030\n",
      "epoch = 206 : E = 0.0513740681\n",
      "epoch = 207 : E = 0.0513739569\n",
      "epoch = 208 : E = 0.0513738651\n",
      "epoch = 209 : E = 0.0513737703\n",
      "epoch = 210 : E = 0.0513736323\n",
      "epoch = 211 : E = 0.0513735796\n",
      "epoch = 212 : E = 0.0513733600\n",
      "epoch = 213 : E = 0.0513731892\n",
      "epoch = 214 : E = 0.0513730257\n",
      "epoch = 215 : E = 0.0513727004\n",
      "epoch = 216 : E = 0.0513722309\n",
      "epoch = 217 : E = 0.0513714193\n",
      "epoch = 218 : E = 0.0513688027\n",
      "epoch = 219 : E = 0.0513678509\n",
      "epoch = 220 : E = 0.0513673833\n",
      "epoch = 221 : E = 0.0513671400\n",
      "epoch = 222 : E = 0.0513669884\n",
      "epoch = 223 : E = 0.0513669731\n",
      "epoch = 224 : E = 0.0513667927\n",
      "epoch = 225 : E = 0.0513666809\n",
      "epoch = 226 : E = 0.0513665959\n",
      "epoch = 227 : E = 0.0513665181\n",
      "epoch = 228 : E = 0.0513664018\n",
      "epoch = 229 : E = 0.0513663564\n",
      "epoch = 230 : E = 0.0513661610\n",
      "epoch = 231 : E = 0.0513660023\n",
      "epoch = 232 : E = 0.0513658102\n",
      "epoch = 233 : E = 0.0513655273\n",
      "epoch = 234 : E = 0.0513652402\n",
      "epoch = 235 : E = 0.0513647032\n",
      "epoch = 236 : E = 0.0513642476\n",
      "epoch = 237 : E = 0.0513631933\n",
      "epoch = 238 : E = 0.0513624742\n",
      "epoch = 239 : E = 0.0513604193\n",
      "epoch = 240 : E = 0.0513596856\n",
      "epoch = 241 : E = 0.0513562362\n",
      "epoch = 242 : E = 0.0513537876\n",
      "epoch = 243 : E = 0.0513532439\n",
      "epoch = 244 : E = 0.0513508772\n",
      "epoch = 245 : E = 0.0513497627\n",
      "epoch = 246 : E = 0.0513491578\n",
      "epoch = 247 : E = 0.0513488289\n",
      "epoch = 248 : E = 0.0513486367\n",
      "epoch = 249 : E = 0.0513485794\n",
      "epoch = 250 : E = 0.0513484456\n",
      "epoch = 251 : E = 0.0513483772\n",
      "epoch = 252 : E = 0.0513483374\n",
      "epoch = 253 : E = 0.0513483117\n",
      "epoch = 254 : E = 0.0513482993\n",
      "epoch = 255 : E = 0.0513482753\n",
      "epoch = 256 : E = 0.0513482604\n",
      "epoch = 257 : E = 0.0513482602\n",
      "epoch = 258 : E = 0.0513482421\n",
      "epoch = 259 : E = 0.0513482315\n",
      "epoch = 260 : E = 0.0513482242\n",
      "epoch = 261 : E = 0.0513482204\n",
      "epoch = 262 : E = 0.0513482120\n",
      "epoch = 263 : E = 0.0513482063\n",
      "epoch = 264 : E = 0.0513482040\n",
      "epoch = 265 : E = 0.0513481968\n",
      "epoch = 266 : E = 0.0513481919\n",
      "epoch = 267 : E = 0.0513481899\n",
      "epoch = 268 : E = 0.0513481832\n",
      "epoch = 269 : E = 0.0513481785\n",
      "epoch = 270 : E = 0.0513481760\n",
      "epoch = 271 : E = 0.0513481693\n",
      "epoch = 272 : E = 0.0513481643\n",
      "epoch = 273 : E = 0.0513481603\n",
      "epoch = 274 : E = 0.0513481531\n",
      "epoch = 275 : E = 0.0513481520\n",
      "epoch = 276 : E = 0.0513481401\n",
      "epoch = 277 : E = 0.0513481311\n",
      "epoch = 278 : E = 0.0513481247\n",
      "epoch = 279 : E = 0.0513481098\n",
      "epoch = 280 : E = 0.0513481069\n",
      "epoch = 281 : E = 0.0513480803\n",
      "epoch = 282 : E = 0.0513480594\n",
      "epoch = 283 : E = 0.0513480421\n",
      "epoch = 284 : E = 0.0513480098\n",
      "epoch = 285 : E = 0.0513480072\n",
      "epoch = 286 : E = 0.0513479599\n",
      "epoch = 287 : E = 0.0513479305\n",
      "epoch = 288 : E = 0.0513479094\n",
      "epoch = 289 : E = 0.0513478950\n",
      "epoch = 290 : E = 0.0513478748\n",
      "epoch = 291 : E = 0.0513478622\n",
      "epoch = 292 : E = 0.0513478600\n",
      "epoch = 293 : E = 0.0513478468\n",
      "epoch = 294 : E = 0.0513478393\n",
      "epoch = 295 : E = 0.0513478344\n",
      "epoch = 296 : E = 0.0513478324\n",
      "epoch = 297 : E = 0.0513478271\n",
      "epoch = 298 : E = 0.0513478237\n",
      "epoch = 299 : E = 0.0513478230\n",
      "epoch = 300 : E = 0.0513478187\n",
      "epoch = 301 : E = 0.0513478160\n",
      "epoch = 302 : E = 0.0513478156\n",
      "epoch = 303 : E = 0.0513478120\n",
      "epoch = 304 : E = 0.0513478097\n",
      "epoch = 305 : E = 0.0513478094\n",
      "epoch = 306 : E = 0.0513478064\n",
      "epoch = 307 : E = 0.0513478044\n",
      "epoch = 308 : E = 0.0513478041\n",
      "epoch = 309 : E = 0.0513478015\n",
      "epoch = 310 : E = 0.0513477999\n",
      "epoch = 311 : E = 0.0513477996\n",
      "epoch = 312 : E = 0.0513477974\n",
      "epoch = 313 : E = 0.0513477960\n",
      "epoch = 314 : E = 0.0513477958\n"
     ]
    },
    {
     "name": "stdout",
     "output_type": "stream",
     "text": [
      "epoch = 315 : E = 0.0513477939\n",
      "epoch = 316 : E = 0.0513477927\n",
      "epoch = 317 : E = 0.0513477925\n",
      "epoch = 318 : E = 0.0513477909\n",
      "epoch = 319 : E = 0.0513477899\n",
      "epoch = 320 : E = 0.0513477897\n",
      "epoch = 321 : E = 0.0513477884\n",
      "epoch = 322 : E = 0.0513477875\n",
      "epoch = 323 : E = 0.0513477874\n",
      "epoch = 324 : E = 0.0513477862\n",
      "epoch = 325 : E = 0.0513477855\n",
      "epoch = 326 : E = 0.0513477854\n",
      "epoch = 327 : E = 0.0513477844\n",
      "epoch = 328 : E = 0.0513477838\n",
      "epoch = 329 : E = 0.0513477837\n",
      "epoch = 330 : E = 0.0513477829\n",
      "epoch = 331 : E = 0.0513477824\n",
      "epoch = 332 : E = 0.0513477823\n",
      "epoch = 333 : E = 0.0513477816\n",
      "epoch = 334 : E = 0.0513477812\n",
      "epoch = 335 : E = 0.0513477811\n",
      "epoch = 336 : E = 0.0513477805\n",
      "epoch = 337 : E = 0.0513477802\n",
      "epoch = 338 : E = 0.0513477801\n",
      "epoch = 339 : E = 0.0513477796\n",
      "epoch = 340 : E = 0.0513477793\n",
      "TolFun exceeded: Optimisation terminated\n"
     ]
    },
    {
     "data": {
      "image/png": "[encoded data removed]",
      "text/plain": [
       "<Figure size 432x288 with 1 Axes>"
      ]
     },
     "metadata": {
      "needs_background": "light"
     },
     "output_type": "display_data"
    }
   ],
   "source": [
    "df3 = get_kmer_table([\"datasets/bat_flu.fa\",\"datasets/penguin_flu.fa\"],4,5)\n",
    "df3 = df3.drop_duplicates(keep=\"last\")\n",
    "kept_index = df3.index.values\n",
    "X = df3.as_matrix(columns = df3.columns)\n",
    "[y, E] = sammon(X,2)\n",
    "sammon_plot(y,labels1[kept_index],2)"
   ]
  },
  {
   "cell_type": "code",
   "execution_count": 62,
   "metadata": {},
   "outputs": [
    {
     "data": {
      "image/png": "[encoded data removed]",
      "text/plain": [
       "<Figure size 432x288 with 1 Axes>"
      ]
     },
     "metadata": {
      "needs_background": "light"
     },
     "output_type": "display_data"
    }
   ],
   "source": [
    "sammon_plot(y,predictions1_2[kept_index],2)"
   ]
  },
  {
   "cell_type": "code",
   "execution_count": 63,
   "metadata": {},
   "outputs": [
    {
     "data": {
      "text/plain": [
       "0.56"
      ]
     },
     "execution_count": 63,
     "metadata": {},
     "output_type": "execute_result"
    }
   ],
   "source": [
    "accuracy1_2 = 1 - sum(abs(labels1 - predictions1_2))/(bat_len+penguin_len)\n",
    "accuracy1_2"
   ]
  },
  {
   "cell_type": "code",
   "execution_count": 43,
   "metadata": {},
   "outputs": [],
   "source": [
    "k_min = 2\n",
    "k_max = 5\n",
    "num_class = 2\n",
    "cov_type = 'full'\n",
    "predictions1_3 = get_predictions(paths,k_min,k_max,num_class,cov_type)"
   ]
  },
  {
   "cell_type": "code",
   "execution_count": 45,
   "metadata": {},
   "outputs": [
    {
     "data": {
      "text/plain": [
       "0.6799999999999999"
      ]
     },
     "execution_count": 45,
     "metadata": {},
     "output_type": "execute_result"
    }
   ],
   "source": [
    "accuracy1_3 = 1 - sum(abs(labels1 - predictions1_3))/(bat_len+penguin_len)\n",
    "accuracy1_3"
   ]
  },
  {
   "cell_type": "code",
   "execution_count": 50,
   "metadata": {},
   "outputs": [
    {
     "data": {
      "text/plain": [
       "0.8457142857142858"
      ]
     },
     "execution_count": 50,
     "metadata": {},
     "output_type": "execute_result"
    }
   ],
   "source": [
    "k_min = 2\n",
    "k_max = 3\n",
    "num_class = 2\n",
    "cov_type = 'diag'\n",
    "predictions1_4 = get_predictions(paths,k_min,k_max,num_class,cov_type)\n",
    "accuracy1_4 = 1 - sum(abs(labels1 - predictions1_4))/(bat_len+penguin_len)\n",
    "accuracy1_4"
   ]
  },
  {
   "cell_type": "code",
   "execution_count": 51,
   "metadata": {},
   "outputs": [
    {
     "data": {
      "text/plain": [
       "0.6628571428571428"
      ]
     },
     "execution_count": 51,
     "metadata": {},
     "output_type": "execute_result"
    }
   ],
   "source": [
    "k_min = 2\n",
    "k_max = 3\n",
    "num_class = 2\n",
    "cov_type = 'tied'\n",
    "predictions1_5 = get_predictions(paths,k_min,k_max,num_class,cov_type)\n",
    "accuracy1_5 = 1 - sum(abs(labels1 - predictions1_5))/(bat_len+penguin_len)\n",
    "accuracy1_5"
   ]
  },
  {
   "cell_type": "code",
   "execution_count": 52,
   "metadata": {},
   "outputs": [
    {
     "data": {
      "text/plain": [
       "0.8228571428571428"
      ]
     },
     "execution_count": 52,
     "metadata": {},
     "output_type": "execute_result"
    }
   ],
   "source": [
    "k_min = 2\n",
    "k_max = 3\n",
    "num_class = 2\n",
    "cov_type = 'spherical'\n",
    "predictions1_6 = get_predictions(paths,k_min,k_max,num_class,cov_type)\n",
    "accuracy1_6 = 1 - sum(abs(labels1 - predictions1_6))/(bat_len+penguin_len)\n",
    "accuracy1_6"
   ]
  },
  {
   "cell_type": "code",
   "execution_count": 65,
   "metadata": {},
   "outputs": [],
   "source": [
    "cat_len = len(get_gene_sequences(\"datasets/cat_flu.fa\"))\n",
    "labels2 = np.append(labels1, [2]*cat_len, axis=None)"
   ]
  },
  {
   "cell_type": "code",
   "execution_count": 68,
   "metadata": {},
   "outputs": [
    {
     "name": "stderr",
     "output_type": "stream",
     "text": [
      "/Users/zhiwen/Applications/miniconda3/lib/python3.7/site-packages/ipykernel_launcher.py:5: FutureWarning: Method .as_matrix will be removed in a future version. Use .values instead.\n",
      "  \"\"\"\n"
     ]
    },
    {
     "name": "stdout",
     "output_type": "stream",
     "text": [
      "epoch = 1 : E = 0.1458892109\n",
      "epoch = 2 : E = 0.1345174989\n",
      "epoch = 3 : E = 0.1328193552\n",
      "epoch = 4 : E = 0.1313376228\n",
      "epoch = 5 : E = 0.1198872942\n",
      "epoch = 6 : E = 0.1188823270\n",
      "epoch = 7 : E = 0.1120442992\n",
      "epoch = 8 : E = 0.1052837398\n",
      "epoch = 9 : E = 0.1026053426\n",
      "epoch = 10 : E = 0.0956360657\n",
      "epoch = 11 : E = 0.0949379154\n",
      "epoch = 12 : E = 0.0944044981\n",
      "epoch = 13 : E = 0.0932635222\n",
      "epoch = 14 : E = 0.0932333673\n",
      "epoch = 15 : E = 0.0899346809\n",
      "epoch = 16 : E = 0.0861886152\n",
      "epoch = 17 : E = 0.0830916782\n",
      "epoch = 18 : E = 0.0813475754\n",
      "epoch = 19 : E = 0.0568274163\n",
      "epoch = 20 : E = 0.0567143272\n",
      "epoch = 21 : E = 0.0503968657\n",
      "epoch = 22 : E = 0.0387055191\n",
      "epoch = 23 : E = 0.0377330338\n",
      "epoch = 24 : E = 0.0376173797\n",
      "epoch = 25 : E = 0.0369687176\n",
      "epoch = 26 : E = 0.0349895104\n",
      "epoch = 27 : E = 0.0300001321\n",
      "epoch = 28 : E = 0.0292909292\n",
      "epoch = 29 : E = 0.0292864137\n",
      "epoch = 30 : E = 0.0284961593\n",
      "epoch = 31 : E = 0.0275449688\n",
      "epoch = 32 : E = 0.0270548791\n",
      "epoch = 33 : E = 0.0268622686\n",
      "epoch = 34 : E = 0.0268392110\n",
      "epoch = 35 : E = 0.0264197756\n",
      "epoch = 36 : E = 0.0263444651\n",
      "epoch = 37 : E = 0.0261094587\n",
      "epoch = 38 : E = 0.0260743528\n",
      "epoch = 39 : E = 0.0259768735\n",
      "epoch = 40 : E = 0.0259493066\n",
      "epoch = 41 : E = 0.0259160739\n",
      "epoch = 42 : E = 0.0258924174\n",
      "epoch = 43 : E = 0.0258508839\n",
      "epoch = 44 : E = 0.0258261796\n",
      "epoch = 45 : E = 0.0258178452\n",
      "epoch = 46 : E = 0.0258067724\n",
      "epoch = 47 : E = 0.0258052264\n",
      "epoch = 48 : E = 0.0257936318\n",
      "epoch = 49 : E = 0.0257784132\n",
      "epoch = 50 : E = 0.0257645429\n",
      "epoch = 51 : E = 0.0257492348\n",
      "epoch = 52 : E = 0.0257468154\n",
      "epoch = 53 : E = 0.0257419681\n",
      "epoch = 54 : E = 0.0256819244\n",
      "epoch = 55 : E = 0.0256511450\n",
      "epoch = 56 : E = 0.0256416009\n",
      "epoch = 57 : E = 0.0256042007\n",
      "epoch = 58 : E = 0.0255963150\n",
      "epoch = 59 : E = 0.0255938827\n",
      "epoch = 60 : E = 0.0255844181\n",
      "epoch = 61 : E = 0.0255691456\n",
      "epoch = 62 : E = 0.0255652985\n",
      "epoch = 63 : E = 0.0255652292\n",
      "epoch = 64 : E = 0.0255619328\n",
      "epoch = 65 : E = 0.0255588665\n",
      "epoch = 66 : E = 0.0255566504\n",
      "epoch = 67 : E = 0.0255540876\n",
      "epoch = 68 : E = 0.0255509760\n",
      "epoch = 69 : E = 0.0255494592\n",
      "epoch = 70 : E = 0.0255490232\n",
      "epoch = 71 : E = 0.0255489103\n",
      "epoch = 72 : E = 0.0255488977\n",
      "epoch = 73 : E = 0.0255487255\n",
      "epoch = 74 : E = 0.0255486448\n",
      "epoch = 75 : E = 0.0255485599\n",
      "epoch = 76 : E = 0.0255484948\n",
      "epoch = 77 : E = 0.0255481555\n",
      "epoch = 78 : E = 0.0255478528\n",
      "epoch = 79 : E = 0.0255475048\n",
      "epoch = 80 : E = 0.0255472247\n",
      "epoch = 81 : E = 0.0255466803\n",
      "epoch = 82 : E = 0.0255463262\n",
      "epoch = 83 : E = 0.0255461703\n",
      "epoch = 84 : E = 0.0255458985\n",
      "epoch = 85 : E = 0.0255458044\n",
      "epoch = 86 : E = 0.0255457276\n",
      "epoch = 87 : E = 0.0255456922\n",
      "epoch = 88 : E = 0.0255456915\n",
      "epoch = 89 : E = 0.0255456600\n",
      "epoch = 90 : E = 0.0255456584\n",
      "epoch = 91 : E = 0.0255456505\n",
      "epoch = 92 : E = 0.0255456496\n",
      "epoch = 93 : E = 0.0255456476\n",
      "epoch = 94 : E = 0.0255456471\n",
      "epoch = 95 : E = 0.0255456465\n",
      "epoch = 96 : E = 0.0255456463\n",
      "TolFun exceeded: Optimisation terminated\n"
     ]
    },
    {
     "data": {
      "image/png": "[encoded data removed]",
      "text/plain": [
       "<Figure size 432x288 with 1 Axes>"
      ]
     },
     "metadata": {
      "needs_background": "light"
     },
     "output_type": "display_data"
    }
   ],
   "source": [
    "df4 = get_kmer_table([\"datasets/bat_flu.fa\",\"datasets/penguin_flu.fa\",\"datasets/cat_flu.fa\"],2,3)\n",
    "df4 = df4.drop_duplicates(keep=\"last\")\n",
    "kept_viruses= df4.index.values\n",
    "plot_labels2 = labels2[kept_viruses]\n",
    "X = df4.as_matrix(columns = df4.columns)\n",
    "[y, E] = sammon(X,2)\n",
    "sammon_plot(y,plot_labels2,3)"
   ]
  },
  {
   "cell_type": "code",
   "execution_count": 53,
   "metadata": {},
   "outputs": [],
   "source": [
    "paths = [\"datasets/bat_flu.fa\",\"datasets/penguin_flu.fa\",\"datasets/cat_flu.fa\"]\n",
    "k_min = 2\n",
    "k_max = 3\n",
    "num_class = 3\n",
    "cov_type = 'full'\n",
    "predictions2_1 = get_predictions(paths,k_min,k_max,num_class,cov_type)"
   ]
  },
  {
   "cell_type": "code",
   "execution_count": 54,
   "metadata": {},
   "outputs": [
    {
     "data": {
      "text/plain": [
       "array([0, 0, 0, 0, 2, 0, 0, 0, 0, 0, 0, 0, 2, 0, 0, 0, 0, 0, 0, 0, 0, 0,\n",
       "       0, 0, 0, 0, 0, 0, 2, 0, 0, 0, 0, 0, 0, 0, 2, 0, 0, 0, 0, 0, 0, 0,\n",
       "       2, 0, 0, 2, 0, 0, 0, 0, 2, 0, 0, 2, 0, 0, 0, 0, 2, 0, 0, 2, 2, 2,\n",
       "       2, 0, 2, 0, 1, 2, 2, 2, 2, 0, 2, 0, 1, 2, 2, 2, 2, 0, 2, 0, 1, 2,\n",
       "       2, 2, 2, 0, 2, 0, 1, 2, 0, 1, 1, 0, 0, 0, 1, 1, 0, 2, 2, 2, 0, 2,\n",
       "       0, 1, 2, 2, 2, 2, 1, 2, 2, 0, 0, 2, 2, 1, 0, 2, 0, 2, 2, 2, 0, 0,\n",
       "       2, 2, 1, 2, 0, 1, 2, 0, 2, 2, 2, 2, 2, 2, 0, 2, 2, 0, 1, 2, 2, 2,\n",
       "       0, 0, 1, 2, 2, 0, 0, 2, 2, 2, 2, 1, 2, 2, 2, 0, 2, 0, 2, 1, 2, 2,\n",
       "       1, 0, 2, 0, 2, 2, 0, 0, 2, 0, 0, 0, 1, 2, 2, 2, 0, 0, 2, 2, 2, 0,\n",
       "       2, 1, 1, 2, 0, 1, 0, 1, 0, 0, 0, 0, 0, 1, 0, 0, 0, 1, 0, 2, 2, 2,\n",
       "       0, 2, 0, 1, 2, 0, 0, 2, 2, 2, 2, 2, 1, 2, 2, 2, 0, 2, 0, 1, 2, 2,\n",
       "       2, 2, 0, 2, 0, 1, 2, 0, 0, 1, 0, 2, 2, 2, 2, 2, 0, 0, 1, 2, 2, 2,\n",
       "       2, 2, 2, 2, 2, 0, 2, 0, 1, 2, 0, 0, 0, 1, 1, 2, 0, 2, 0, 2, 2, 2,\n",
       "       0, 0, 1])"
      ]
     },
     "execution_count": 54,
     "metadata": {},
     "output_type": "execute_result"
    }
   ],
   "source": [
    "predictions2_1"
   ]
  },
  {
   "cell_type": "code",
   "execution_count": 66,
   "metadata": {},
   "outputs": [
    {
     "data": {
      "text/plain": [
       "0.4290657439446367"
      ]
     },
     "execution_count": 66,
     "metadata": {},
     "output_type": "execute_result"
    }
   ],
   "source": [
    "def accuracy(labels,predictions):\n",
    "    err = 0\n",
    "    for i in range(len(labels)):\n",
    "        if (labels[i] != predictions[i]):\n",
    "            err += 1\n",
    "    return (1-err/len(labels))\n",
    "\n",
    "accuracy2_1 = accuracy(labels2,predictions2_1)\n",
    "accuracy2_1"
   ]
  },
  {
   "cell_type": "code",
   "execution_count": 68,
   "metadata": {},
   "outputs": [
    {
     "data": {
      "text/plain": [
       "0.24221453287197237"
      ]
     },
     "execution_count": 68,
     "metadata": {},
     "output_type": "execute_result"
    }
   ],
   "source": [
    "k_min = 2\n",
    "k_max = 5\n",
    "num_class = 3\n",
    "cov_type = 'full'\n",
    "predictions2_3 = get_predictions(paths,k_min,k_max,num_class,cov_type)\n",
    "accuracy2_3 = accuracy(labels2,predictions2_3)\n",
    "accuracy2_3"
   ]
  },
  {
   "cell_type": "code",
   "execution_count": 69,
   "metadata": {},
   "outputs": [
    {
     "data": {
      "text/plain": [
       "0.3044982698961938"
      ]
     },
     "execution_count": 69,
     "metadata": {},
     "output_type": "execute_result"
    }
   ],
   "source": [
    "k_min = 2\n",
    "k_max = 3\n",
    "num_class = 3\n",
    "cov_type = 'diag'\n",
    "predictions2_4 = get_predictions(paths,k_min,k_max,num_class,cov_type)\n",
    "accuracy2_4 = accuracy(labels2,predictions2_4)\n",
    "accuracy2_4"
   ]
  },
  {
   "cell_type": "code",
   "execution_count": 77,
   "metadata": {},
   "outputs": [
    {
     "data": {
      "text/plain": [
       "0.4117647058823529"
      ]
     },
     "execution_count": 77,
     "metadata": {},
     "output_type": "execute_result"
    }
   ],
   "source": [
    "k_min = 2\n",
    "k_max = 3\n",
    "num_class = 3\n",
    "cov_type = 'tied'\n",
    "predictions2_5 = get_predictions(paths,k_min,k_max,num_class,cov_type)\n",
    "accuracy2_5 = accuracy(labels2,predictions2_5)\n",
    "accuracy2_5"
   ]
  },
  {
   "cell_type": "code",
   "execution_count": 80,
   "metadata": {},
   "outputs": [
    {
     "data": {
      "text/plain": [
       "0.46366782006920415"
      ]
     },
     "execution_count": 80,
     "metadata": {},
     "output_type": "execute_result"
    }
   ],
   "source": [
    "k_min = 2\n",
    "k_max = 3\n",
    "num_class = 3\n",
    "cov_type = 'spherical'\n",
    "predictions2_6 = get_predictions(paths,k_min,k_max,num_class,cov_type)\n",
    "accuracy2_6 = accuracy(labels2,predictions2_6)\n",
    "accuracy2_6"
   ]
  },
  {
   "cell_type": "code",
   "execution_count": 73,
   "metadata": {},
   "outputs": [],
   "source": [
    "paths = [\"datasets/Dengue.fa\",\"datasets/mers.fa\"]\n",
    "k_min = 2\n",
    "k_max = 3\n",
    "num_class = 2\n",
    "cov_type = 'full'\n",
    "predictions3_1 = get_predictions(paths,k_min,k_max,num_class,cov_type)"
   ]
  },
  {
   "cell_type": "code",
   "execution_count": 71,
   "metadata": {},
   "outputs": [],
   "source": [
    "den_len = len(get_gene_sequences(\"datasets/Dengue.fa\"))\n",
    "mers_len = len(get_gene_sequences(\"datasets/mers.fa\"))\n",
    "zeros = np.zeros(den_len)\n",
    "labels3 = np.append(zeros, [1]*mers_len,axis=None)"
   ]
  },
  {
   "cell_type": "code",
   "execution_count": 88,
   "metadata": {},
   "outputs": [
    {
     "data": {
      "text/plain": [
       "0.9725986148750376"
      ]
     },
     "execution_count": 88,
     "metadata": {},
     "output_type": "execute_result"
    }
   ],
   "source": [
    "accuracy3_1 = 1-sum(abs(labels3 - predictions3_1))/(den_len+mers_len)\n",
    "accuracy3_1"
   ]
  },
  {
   "cell_type": "code",
   "execution_count": 72,
   "metadata": {},
   "outputs": [
    {
     "name": "stderr",
     "output_type": "stream",
     "text": [
      "/Users/zhiwen/Applications/miniconda3/lib/python3.7/site-packages/ipykernel_launcher.py:4: FutureWarning: Method .as_matrix will be removed in a future version. Use .values instead.\n",
      "  after removing the cwd from sys.path.\n"
     ]
    },
    {
     "name": "stdout",
     "output_type": "stream",
     "text": [
      "epoch = 1 : E = 0.0794376224\n",
      "epoch = 2 : E = 0.0793062377\n",
      "epoch = 3 : E = 0.0765091864\n",
      "epoch = 4 : E = 0.0718596819\n",
      "epoch = 5 : E = 0.0698740013\n",
      "epoch = 6 : E = 0.0690453159\n",
      "epoch = 7 : E = 0.0689320254\n",
      "epoch = 8 : E = 0.0688293936\n",
      "epoch = 9 : E = 0.0684055601\n",
      "epoch = 10 : E = 0.0681489992\n",
      "epoch = 11 : E = 0.0637992799\n",
      "epoch = 12 : E = 0.0627211486\n",
      "epoch = 13 : E = 0.0620516272\n",
      "epoch = 14 : E = 0.0555645596\n",
      "epoch = 15 : E = 0.0553263334\n",
      "epoch = 16 : E = 0.0552637066\n",
      "epoch = 17 : E = 0.0550331198\n",
      "epoch = 18 : E = 0.0504218491\n",
      "epoch = 19 : E = 0.0502125429\n",
      "epoch = 20 : E = 0.0496915809\n",
      "epoch = 21 : E = 0.0486178202\n",
      "epoch = 22 : E = 0.0485897495\n",
      "epoch = 23 : E = 0.0485109420\n",
      "epoch = 24 : E = 0.0482395159\n",
      "epoch = 25 : E = 0.0474071180\n",
      "epoch = 26 : E = 0.0472908134\n",
      "epoch = 27 : E = 0.0452835815\n",
      "epoch = 28 : E = 0.0448809420\n",
      "epoch = 29 : E = 0.0445741100\n",
      "epoch = 30 : E = 0.0440975096\n",
      "epoch = 31 : E = 0.0422584793\n",
      "epoch = 32 : E = 0.0420630693\n",
      "epoch = 33 : E = 0.0414043094\n",
      "epoch = 34 : E = 0.0405978336\n",
      "epoch = 35 : E = 0.0393774555\n",
      "epoch = 36 : E = 0.0388877700\n",
      "epoch = 37 : E = 0.0375359420\n",
      "epoch = 38 : E = 0.0361770377\n",
      "epoch = 39 : E = 0.0361454654\n",
      "epoch = 40 : E = 0.0307472923\n",
      "epoch = 41 : E = 0.0307343971\n",
      "epoch = 42 : E = 0.0277083345\n",
      "epoch = 43 : E = 0.0259345679\n",
      "epoch = 44 : E = 0.0259226737\n",
      "epoch = 45 : E = 0.0258234470\n",
      "epoch = 46 : E = 0.0248992605\n",
      "epoch = 47 : E = 0.0231611914\n",
      "epoch = 48 : E = 0.0231250466\n",
      "epoch = 49 : E = 0.0229521392\n",
      "epoch = 50 : E = 0.0193493066\n",
      "epoch = 51 : E = 0.0192039717\n",
      "epoch = 52 : E = 0.0189657225\n",
      "epoch = 53 : E = 0.0162170834\n",
      "epoch = 54 : E = 0.0159025659\n",
      "epoch = 55 : E = 0.0140447801\n",
      "epoch = 56 : E = 0.0126858504\n",
      "epoch = 57 : E = 0.0116310011\n",
      "epoch = 58 : E = 0.0116050131\n",
      "epoch = 59 : E = 0.0111654744\n",
      "epoch = 60 : E = 0.0111227859\n",
      "epoch = 61 : E = 0.0110039326\n",
      "epoch = 62 : E = 0.0109083449\n",
      "epoch = 63 : E = 0.0105814757\n",
      "epoch = 64 : E = 0.0094346351\n",
      "epoch = 65 : E = 0.0093322515\n",
      "epoch = 66 : E = 0.0092097954\n",
      "epoch = 67 : E = 0.0090031649\n",
      "epoch = 68 : E = 0.0089895265\n",
      "epoch = 69 : E = 0.0084436217\n",
      "epoch = 70 : E = 0.0084284126\n",
      "epoch = 71 : E = 0.0084162152\n",
      "epoch = 72 : E = 0.0083399773\n",
      "epoch = 73 : E = 0.0083275015\n",
      "epoch = 74 : E = 0.0082632267\n",
      "epoch = 75 : E = 0.0082161279\n",
      "epoch = 76 : E = 0.0082016985\n",
      "epoch = 77 : E = 0.0081468525\n",
      "epoch = 78 : E = 0.0081400365\n",
      "epoch = 79 : E = 0.0080645347\n",
      "epoch = 80 : E = 0.0080599423\n",
      "epoch = 81 : E = 0.0080588302\n",
      "epoch = 82 : E = 0.0080488728\n",
      "epoch = 83 : E = 0.0080483999\n",
      "epoch = 84 : E = 0.0080164138\n",
      "epoch = 85 : E = 0.0079863009\n",
      "epoch = 86 : E = 0.0079570081\n",
      "epoch = 87 : E = 0.0079565824\n",
      "epoch = 88 : E = 0.0079271532\n",
      "epoch = 89 : E = 0.0078812647\n",
      "epoch = 90 : E = 0.0078791323\n",
      "epoch = 91 : E = 0.0078758774\n",
      "epoch = 92 : E = 0.0078754913\n",
      "epoch = 93 : E = 0.0078702296\n",
      "epoch = 94 : E = 0.0078128625\n",
      "epoch = 95 : E = 0.0078075593\n",
      "epoch = 96 : E = 0.0077597669\n",
      "epoch = 97 : E = 0.0077454513\n",
      "epoch = 98 : E = 0.0077317937\n",
      "epoch = 99 : E = 0.0077274465\n",
      "epoch = 100 : E = 0.0077117862\n",
      "epoch = 101 : E = 0.0077066547\n",
      "epoch = 102 : E = 0.0077020506\n",
      "epoch = 103 : E = 0.0076959361\n",
      "epoch = 104 : E = 0.0076787207\n",
      "epoch = 105 : E = 0.0076768908\n",
      "epoch = 106 : E = 0.0076756032\n",
      "epoch = 107 : E = 0.0076746963\n",
      "epoch = 108 : E = 0.0076665637\n",
      "epoch = 109 : E = 0.0076638320\n",
      "epoch = 110 : E = 0.0076615130\n",
      "epoch = 111 : E = 0.0076607761\n",
      "epoch = 112 : E = 0.0076594849\n",
      "epoch = 113 : E = 0.0076575672\n",
      "epoch = 114 : E = 0.0076575635\n",
      "epoch = 115 : E = 0.0076564441\n",
      "epoch = 116 : E = 0.0076550694\n",
      "epoch = 117 : E = 0.0076548124\n",
      "epoch = 118 : E = 0.0076546485\n",
      "epoch = 119 : E = 0.0076516054\n",
      "epoch = 120 : E = 0.0076502793\n",
      "epoch = 121 : E = 0.0076500313\n",
      "epoch = 122 : E = 0.0076484019\n",
      "epoch = 123 : E = 0.0076481308\n",
      "epoch = 124 : E = 0.0076481071\n",
      "epoch = 125 : E = 0.0076470750\n",
      "epoch = 126 : E = 0.0076470027\n",
      "epoch = 127 : E = 0.0076460298\n",
      "epoch = 128 : E = 0.0076456551\n",
      "epoch = 129 : E = 0.0076447972\n",
      "epoch = 130 : E = 0.0076440113\n",
      "epoch = 131 : E = 0.0076434905\n",
      "epoch = 132 : E = 0.0076433073\n",
      "epoch = 133 : E = 0.0076428286\n",
      "epoch = 134 : E = 0.0076426425\n",
      "epoch = 135 : E = 0.0076424169\n",
      "epoch = 136 : E = 0.0076417972\n",
      "epoch = 137 : E = 0.0076417661\n",
      "epoch = 138 : E = 0.0076417576\n",
      "epoch = 139 : E = 0.0076416775\n",
      "epoch = 140 : E = 0.0076412154\n",
      "epoch = 141 : E = 0.0076410736\n",
      "epoch = 142 : E = 0.0076407164\n",
      "epoch = 143 : E = 0.0076406232\n",
      "epoch = 144 : E = 0.0076403481\n",
      "epoch = 145 : E = 0.0076389535\n",
      "epoch = 146 : E = 0.0076384592\n",
      "epoch = 147 : E = 0.0076382022\n",
      "epoch = 148 : E = 0.0076381981\n",
      "epoch = 149 : E = 0.0076374130\n",
      "epoch = 150 : E = 0.0076371347\n",
      "epoch = 151 : E = 0.0076368496\n",
      "epoch = 152 : E = 0.0076360764\n",
      "epoch = 153 : E = 0.0076360579\n",
      "epoch = 154 : E = 0.0076360550\n",
      "epoch = 155 : E = 0.0076359932\n",
      "epoch = 156 : E = 0.0076352817\n",
      "epoch = 157 : E = 0.0076350266\n",
      "epoch = 158 : E = 0.0076348752\n",
      "epoch = 159 : E = 0.0076342819\n",
      "epoch = 160 : E = 0.0076341549\n",
      "epoch = 161 : E = 0.0076339003\n",
      "epoch = 162 : E = 0.0076338686\n",
      "epoch = 163 : E = 0.0076330158\n",
      "epoch = 164 : E = 0.0076330138\n",
      "epoch = 165 : E = 0.0076328643\n",
      "epoch = 166 : E = 0.0076316801\n",
      "epoch = 167 : E = 0.0076316746\n",
      "epoch = 168 : E = 0.0076314066\n",
      "epoch = 169 : E = 0.0076310290\n",
      "epoch = 170 : E = 0.0076304280\n",
      "epoch = 171 : E = 0.0076302439\n",
      "epoch = 172 : E = 0.0076301542\n",
      "epoch = 173 : E = 0.0076298882\n",
      "epoch = 174 : E = 0.0076294990\n",
      "epoch = 175 : E = 0.0076292830\n",
      "epoch = 176 : E = 0.0076290974\n",
      "epoch = 177 : E = 0.0076290739\n",
      "epoch = 178 : E = 0.0076288839\n",
      "epoch = 179 : E = 0.0076287579\n",
      "epoch = 180 : E = 0.0076286576\n",
      "epoch = 181 : E = 0.0076285285\n",
      "epoch = 182 : E = 0.0076284518\n",
      "epoch = 183 : E = 0.0076283736\n",
      "epoch = 184 : E = 0.0076283087\n",
      "epoch = 185 : E = 0.0076282865\n",
      "epoch = 186 : E = 0.0076282109\n",
      "epoch = 187 : E = 0.0076281478\n",
      "epoch = 188 : E = 0.0076281425\n",
      "epoch = 189 : E = 0.0076280603\n",
      "epoch = 190 : E = 0.0076279831\n",
      "epoch = 191 : E = 0.0076279570\n",
      "epoch = 192 : E = 0.0076279190\n",
      "epoch = 193 : E = 0.0076279017\n",
      "epoch = 194 : E = 0.0076278629\n",
      "epoch = 195 : E = 0.0076278579\n",
      "epoch = 196 : E = 0.0076278511\n",
      "epoch = 197 : E = 0.0076278221\n",
      "epoch = 198 : E = 0.0076278081\n",
      "epoch = 199 : E = 0.0076278035\n",
      "epoch = 200 : E = 0.0076277786\n",
      "epoch = 201 : E = 0.0076277651\n",
      "epoch = 202 : E = 0.0076277649\n",
      "epoch = 203 : E = 0.0076277498\n",
      "epoch = 204 : E = 0.0076277411\n",
      "epoch = 205 : E = 0.0076277339\n",
      "epoch = 206 : E = 0.0076277284\n",
      "epoch = 207 : E = 0.0076277193\n",
      "epoch = 208 : E = 0.0076277145\n",
      "epoch = 209 : E = 0.0076277091\n",
      "epoch = 210 : E = 0.0076277029\n",
      "epoch = 211 : E = 0.0076276984\n",
      "epoch = 212 : E = 0.0076276943\n",
      "epoch = 213 : E = 0.0076276925\n",
      "epoch = 214 : E = 0.0076276890\n",
      "epoch = 215 : E = 0.0076276818\n",
      "epoch = 216 : E = 0.0076276777\n",
      "epoch = 217 : E = 0.0076276743\n",
      "epoch = 218 : E = 0.0076276713\n",
      "epoch = 219 : E = 0.0076276695\n",
      "epoch = 220 : E = 0.0076276659\n",
      "epoch = 221 : E = 0.0076276628\n",
      "epoch = 222 : E = 0.0076276602\n",
      "epoch = 223 : E = 0.0076276578\n",
      "epoch = 224 : E = 0.0076276572\n",
      "epoch = 225 : E = 0.0076276540\n",
      "epoch = 226 : E = 0.0076276515\n",
      "epoch = 227 : E = 0.0076276494\n",
      "epoch = 228 : E = 0.0076276475\n",
      "epoch = 229 : E = 0.0076276475\n",
      "epoch = 230 : E = 0.0076276450\n",
      "epoch = 231 : E = 0.0076276428\n",
      "epoch = 232 : E = 0.0076276411\n",
      "epoch = 233 : E = 0.0076276396\n",
      "epoch = 234 : E = 0.0076276383\n",
      "epoch = 235 : E = 0.0076276379\n",
      "epoch = 236 : E = 0.0076276362\n",
      "epoch = 237 : E = 0.0076276347\n",
      "epoch = 238 : E = 0.0076276335\n",
      "epoch = 239 : E = 0.0076276324\n",
      "epoch = 240 : E = 0.0076276314\n",
      "epoch = 241 : E = 0.0076276309\n",
      "epoch = 242 : E = 0.0076276297\n",
      "epoch = 243 : E = 0.0076276287\n",
      "epoch = 244 : E = 0.0076276278\n",
      "epoch = 245 : E = 0.0076276270\n",
      "epoch = 246 : E = 0.0076276269\n",
      "epoch = 247 : E = 0.0076276258\n",
      "epoch = 248 : E = 0.0076276250\n",
      "epoch = 249 : E = 0.0076276242\n",
      "epoch = 250 : E = 0.0076276236\n",
      "epoch = 251 : E = 0.0076276230\n",
      "epoch = 252 : E = 0.0076276227\n",
      "epoch = 253 : E = 0.0076276220\n",
      "epoch = 254 : E = 0.0076276213\n",
      "epoch = 255 : E = 0.0076276208\n",
      "epoch = 256 : E = 0.0076276202\n",
      "epoch = 257 : E = 0.0076276202\n",
      "epoch = 258 : E = 0.0076276195\n",
      "epoch = 259 : E = 0.0076276190\n",
      "epoch = 260 : E = 0.0076276185\n",
      "epoch = 261 : E = 0.0076276181\n",
      "epoch = 262 : E = 0.0076276178\n",
      "epoch = 263 : E = 0.0076276178\n",
      "epoch = 264 : E = 0.0076276173\n",
      "epoch = 265 : E = 0.0076276169\n",
      "epoch = 266 : E = 0.0076276166\n",
      "epoch = 267 : E = 0.0076276163\n",
      "epoch = 268 : E = 0.0076276161\n"
     ]
    },
    {
     "name": "stdout",
     "output_type": "stream",
     "text": [
      "epoch = 269 : E = 0.0076276160\n",
      "epoch = 270 : E = 0.0076276157\n",
      "epoch = 271 : E = 0.0076276154\n",
      "epoch = 272 : E = 0.0076276152\n",
      "epoch = 273 : E = 0.0076276150\n",
      "epoch = 274 : E = 0.0076276148\n",
      "epoch = 275 : E = 0.0076276147\n",
      "epoch = 276 : E = 0.0076276145\n",
      "epoch = 277 : E = 0.0076276143\n",
      "epoch = 278 : E = 0.0076276141\n",
      "epoch = 279 : E = 0.0076276140\n",
      "epoch = 280 : E = 0.0076276139\n",
      "epoch = 281 : E = 0.0076276138\n",
      "epoch = 282 : E = 0.0076276136\n",
      "epoch = 283 : E = 0.0076276135\n",
      "epoch = 284 : E = 0.0076276133\n",
      "epoch = 285 : E = 0.0076276132\n",
      "epoch = 286 : E = 0.0076276132\n",
      "epoch = 287 : E = 0.0076276130\n",
      "epoch = 288 : E = 0.0076276129\n",
      "epoch = 289 : E = 0.0076276128\n",
      "epoch = 290 : E = 0.0076276127\n",
      "epoch = 291 : E = 0.0076276126\n",
      "epoch = 292 : E = 0.0076276126\n",
      "epoch = 293 : E = 0.0076276125\n",
      "epoch = 294 : E = 0.0076276124\n",
      "epoch = 295 : E = 0.0076276123\n",
      "epoch = 296 : E = 0.0076276123\n",
      "epoch = 297 : E = 0.0076276122\n",
      "TolFun exceeded: Optimisation terminated\n"
     ]
    },
    {
     "data": {
      "image/png": "[encoded data removed]",
      "text/plain": [
       "<Figure size 432x288 with 1 Axes>"
      ]
     },
     "metadata": {
      "needs_background": "light"
     },
     "output_type": "display_data"
    }
   ],
   "source": [
    "df5 = get_kmer_table([\"datasets/Dengue.fa\",\"datasets/mers.fa\"],2,3)\n",
    "df5 = df5.drop_duplicates(keep=\"last\")\n",
    "kept_index = df5.index.values\n",
    "X = df5.as_matrix(columns = df5.columns)\n",
    "[y, E] = sammon(X,2)\n",
    "sammon_plot(y,labels3[kept_index],2)"
   ]
  },
  {
   "cell_type": "code",
   "execution_count": 74,
   "metadata": {},
   "outputs": [
    {
     "data": {
      "image/png": "[encoded data removed]",
      "text/plain": [
       "<Figure size 432x288 with 1 Axes>"
      ]
     },
     "metadata": {
      "needs_background": "light"
     },
     "output_type": "display_data"
    }
   ],
   "source": [
    "sammon_plot(y,predictions3_1[kept_index],2)"
   ]
  },
  {
   "cell_type": "code",
   "execution_count": 91,
   "metadata": {},
   "outputs": [
    {
     "data": {
      "text/plain": [
       "0.020174646190906365"
      ]
     },
     "execution_count": 91,
     "metadata": {},
     "output_type": "execute_result"
    }
   ],
   "source": [
    "k_min = 3\n",
    "k_max = 3\n",
    "num_class = 2\n",
    "cov_type = 'full'\n",
    "predictions3_2 = get_predictions(paths,k_min,k_max,num_class,cov_type)\n",
    "accuracy3_2 = 1-sum(abs(labels3 - predictions3_2))/(den_len+mers_len)\n",
    "accuracy3_2"
   ]
  },
  {
   "cell_type": "code",
   "execution_count": 92,
   "metadata": {},
   "outputs": [
    {
     "data": {
      "text/plain": [
       "0.014152363745859708"
      ]
     },
     "execution_count": 92,
     "metadata": {},
     "output_type": "execute_result"
    }
   ],
   "source": [
    "k_min = 4\n",
    "k_max = 4\n",
    "num_class = 2\n",
    "cov_type = 'full'\n",
    "predictions3_3 = get_predictions(paths,k_min,k_max,num_class,cov_type)\n",
    "accuracy3_3 = 1-sum(abs(labels3 - predictions3_3))/(den_len+mers_len)\n",
    "accuracy3_3"
   ]
  },
  {
   "cell_type": "code",
   "execution_count": 93,
   "metadata": {},
   "outputs": [
    {
     "data": {
      "text/plain": [
       "0.04727491719361643"
      ]
     },
     "execution_count": 93,
     "metadata": {},
     "output_type": "execute_result"
    }
   ],
   "source": [
    "k_min = 2\n",
    "k_max = 3\n",
    "num_class = 2\n",
    "cov_type = 'diag'\n",
    "predictions3_4 = get_predictions(paths,k_min,k_max,num_class,cov_type)\n",
    "accuracy3_4 = 1-sum(abs(labels3 - predictions3_4))/(den_len+mers_len)\n",
    "accuracy3_4"
   ]
  },
  {
   "cell_type": "code",
   "execution_count": 96,
   "metadata": {},
   "outputs": [
    {
     "data": {
      "text/plain": [
       "0.028906955736224038"
      ]
     },
     "execution_count": 96,
     "metadata": {},
     "output_type": "execute_result"
    }
   ],
   "source": [
    "k_min = 2\n",
    "k_max = 3\n",
    "num_class = 2\n",
    "cov_type = 'tied'\n",
    "predictions3_5 = get_predictions(paths,k_min,k_max,num_class,cov_type)\n",
    "accuracy3_5 = 1-sum(abs(labels3 - predictions3_5))/(den_len+mers_len)\n",
    "accuracy3_5"
   ]
  },
  {
   "cell_type": "code",
   "execution_count": 97,
   "metadata": {},
   "outputs": [
    {
     "data": {
      "text/plain": [
       "0.9698885877747666"
      ]
     },
     "execution_count": 97,
     "metadata": {},
     "output_type": "execute_result"
    }
   ],
   "source": [
    "k_min = 2\n",
    "k_max = 3\n",
    "num_class = 2\n",
    "cov_type = 'spherical'\n",
    "predictions3_6 = get_predictions(paths,k_min,k_max,num_class,cov_type)\n",
    "accuracy3_6 = 1-sum(abs(labels3 - predictions3_6))/(den_len+mers_len)\n",
    "accuracy3_6"
   ]
  },
  {
   "cell_type": "code",
   "execution_count": 83,
   "metadata": {},
   "outputs": [
    {
     "data": {
      "text/plain": [
       "[0.8571428571428572,\n",
       " 0.49142857142857144,\n",
       " 0.6799999999999999,\n",
       " 0.8457142857142858,\n",
       " 0.6628571428571428,\n",
       " 0.8228571428571428]"
      ]
     },
     "execution_count": 83,
     "metadata": {},
     "output_type": "execute_result"
    }
   ],
   "source": [
    "accu1 = [accuracy1_1,accuracy1_2,accuracy1_3,accuracy1_4,accuracy1_5,accuracy1_6]\n",
    "accu1"
   ]
  },
  {
   "cell_type": "code",
   "execution_count": 84,
   "metadata": {},
   "outputs": [
    {
     "data": {
      "text/plain": [
       "[0.4290657439446367,\n",
       " 0.32179930795847755,\n",
       " 0.24221453287197237,\n",
       " 0.4982698961937716,\n",
       " 0.4117647058823529,\n",
       " 0.46366782006920415]"
      ]
     },
     "execution_count": 84,
     "metadata": {},
     "output_type": "execute_result"
    }
   ],
   "source": [
    "accu2 = [accuracy2_1,accuracy2_2,accuracy2_3,accuracy2_4,accuracy2_5,accuracy2_6]\n",
    "accu2"
   ]
  },
  {
   "cell_type": "code",
   "execution_count": 98,
   "metadata": {},
   "outputs": [
    {
     "data": {
      "text/plain": [
       "[0.9725986148750376,\n",
       " 0.9798253538090936,\n",
       " 0.9858476362541403,\n",
       " 0.9527250828063836,\n",
       " 0.971093044263776,\n",
       " 0.9698885877747666]"
      ]
     },
     "execution_count": 98,
     "metadata": {},
     "output_type": "execute_result"
    }
   ],
   "source": [
    "accu3 = [accuracy3_1,1-accuracy3_2,1-accuracy3_3,1-accuracy3_4,1-accuracy3_5,accuracy3_6]\n",
    "accu3"
   ]
  },
  {
   "cell_type": "code",
   "execution_count": 111,
   "metadata": {},
   "outputs": [],
   "source": [
    "df = pd.DataFrame(data=[accu1,accu2,accu3], index=['Flu from bat or penguin (175 seqs)','Flu from bat or penguin or cat (289 seqs)','Dengue or Mers (3321 seqs)'])\n",
    "df.rename(columns={0:'2-3mer with full covariance',\n",
    "                   1:'4-5mer with full covariance',\n",
    "                   2:'2-5mer with full covariance',\n",
    "                   3:'2-3mer with diag covariance',\n",
    "                   4: '2-3mer with tied covariance',\n",
    "                   5:'2-3mer with spherical covariance'}, \n",
    "                 inplace=True)"
   ]
  },
  {
   "cell_type": "code",
   "execution_count": 112,
   "metadata": {},
   "outputs": [
    {
     "data": {
      "text/html": [
       "<div>\n",
       "<style scoped>\n",
       "    .dataframe tbody tr th:only-of-type {\n",
       "        vertical-align: middle;\n",
       "    }\n",
       "\n",
       "    .dataframe tbody tr th {\n",
       "        vertical-align: top;\n",
       "    }\n",
       "\n",
       "    .dataframe thead th {\n",
       "        text-align: right;\n",
       "    }\n",
       "</style>\n",
       "<table border=\"1\" class=\"dataframe\">\n",
       "  <thead>\n",
       "    <tr style=\"text-align: right;\">\n",
       "      <th></th>\n",
       "      <th>2-3mer with full covariance</th>\n",
       "      <th>4-5mer with full covariance</th>\n",
       "      <th>2-5mer with full covariance</th>\n",
       "      <th>2-3mer with diag covariance</th>\n",
       "      <th>2-3mer with tied covariance</th>\n",
       "      <th>2-3mer with spherical covariance</th>\n",
       "    </tr>\n",
       "  </thead>\n",
       "  <tbody>\n",
       "    <tr>\n",
       "      <th>Flu from bat or penguin (175 seqs)</th>\n",
       "      <td>0.857143</td>\n",
       "      <td>0.491429</td>\n",
       "      <td>0.680000</td>\n",
       "      <td>0.845714</td>\n",
       "      <td>0.662857</td>\n",
       "      <td>0.822857</td>\n",
       "    </tr>\n",
       "    <tr>\n",
       "      <th>Flu from bat or penguin or cat (289 seqs)</th>\n",
       "      <td>0.429066</td>\n",
       "      <td>0.321799</td>\n",
       "      <td>0.242215</td>\n",
       "      <td>0.498270</td>\n",
       "      <td>0.411765</td>\n",
       "      <td>0.463668</td>\n",
       "    </tr>\n",
       "    <tr>\n",
       "      <th>Dengue or Mers (3321 seqs)</th>\n",
       "      <td>0.972599</td>\n",
       "      <td>0.979825</td>\n",
       "      <td>0.985848</td>\n",
       "      <td>0.952725</td>\n",
       "      <td>0.971093</td>\n",
       "      <td>0.969889</td>\n",
       "    </tr>\n",
       "  </tbody>\n",
       "</table>\n",
       "</div>"
      ],
      "text/plain": [
       "                                           2-3mer with full covariance  \\\n",
       "Flu from bat or penguin (175 seqs)                            0.857143   \n",
       "Flu from bat or penguin or cat (289 seqs)                     0.429066   \n",
       "Dengue or Mers (3321 seqs)                                    0.972599   \n",
       "\n",
       "                                           4-5mer with full covariance  \\\n",
       "Flu from bat or penguin (175 seqs)                            0.491429   \n",
       "Flu from bat or penguin or cat (289 seqs)                     0.321799   \n",
       "Dengue or Mers (3321 seqs)                                    0.979825   \n",
       "\n",
       "                                           2-5mer with full covariance  \\\n",
       "Flu from bat or penguin (175 seqs)                            0.680000   \n",
       "Flu from bat or penguin or cat (289 seqs)                     0.242215   \n",
       "Dengue or Mers (3321 seqs)                                    0.985848   \n",
       "\n",
       "                                           2-3mer with diag covariance  \\\n",
       "Flu from bat or penguin (175 seqs)                            0.845714   \n",
       "Flu from bat or penguin or cat (289 seqs)                     0.498270   \n",
       "Dengue or Mers (3321 seqs)                                    0.952725   \n",
       "\n",
       "                                           2-3mer with tied covariance  \\\n",
       "Flu from bat or penguin (175 seqs)                            0.662857   \n",
       "Flu from bat or penguin or cat (289 seqs)                     0.411765   \n",
       "Dengue or Mers (3321 seqs)                                    0.971093   \n",
       "\n",
       "                                           2-3mer with spherical covariance  \n",
       "Flu from bat or penguin (175 seqs)                                 0.822857  \n",
       "Flu from bat or penguin or cat (289 seqs)                          0.463668  \n",
       "Dengue or Mers (3321 seqs)                                         0.969889  "
      ]
     },
     "execution_count": 112,
     "metadata": {},
     "output_type": "execute_result"
    }
   ],
   "source": [
    "df"
   ]
  },
  {
   "cell_type": "code",
   "execution_count": 107,
   "metadata": {},
   "outputs": [
    {
     "data": {
      "text/plain": [
       "3321"
      ]
     },
     "execution_count": 107,
     "metadata": {},
     "output_type": "execute_result"
    }
   ],
   "source": [
    "len(labels3)"
   ]
  },
  {
   "cell_type": "code",
   "execution_count": 108,
   "metadata": {},
   "outputs": [
    {
     "data": {
      "text/plain": [
       "289"
      ]
     },
     "execution_count": 108,
     "metadata": {},
     "output_type": "execute_result"
    }
   ],
   "source": [
    "len(labels2)"
   ]
  },
  {
   "cell_type": "code",
   "execution_count": 110,
   "metadata": {},
   "outputs": [
    {
     "data": {
      "text/plain": [
       "175"
      ]
     },
     "execution_count": 110,
     "metadata": {},
     "output_type": "execute_result"
    }
   ],
   "source": [
    "len(labels1)"
   ]
  },
  {
   "cell_type": "code",
   "execution_count": null,
   "metadata": {},
   "outputs": [],
   "source": []
  }
 ],
 "metadata": {
  "kernelspec": {
   "display_name": "Python 3",
   "language": "python",
   "name": "python3"
  },
  "language_info": {
   "codemirror_mode": {
    "name": "ipython",
    "version": 3
   },
   "file_extension": ".py",
   "mimetype": "text/x-python",
   "name": "python",
   "nbconvert_exporter": "python",
   "pygments_lexer": "ipython3",
   "version": "3.7.3"
  }
 },
 "nbformat": 4,
 "nbformat_minor": 2
}
