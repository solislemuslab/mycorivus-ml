{
 "cells": [
  {
   "cell_type": "code",
   "execution_count": 36,
   "metadata": {},
   "outputs": [],
   "source": [
    "import pandas as pd\n",
    "from Bio import SeqIO\n",
    "from sklearn.feature_extraction.text import TfidfVectorizer\n",
    "from sklearn.cluster import KMeans\n",
    "from sklearn.decomposition import PCA\n",
    "from sklearn.manifold import TSNE\n",
    "from sklearn.cluster import MeanShift\n",
    "from sklearn import preprocessing \n",
    "import matplotlib.pyplot as plt\n",
    "import matplotlib.patches as mpatches\n",
    "from mpl_toolkits.mplot3d import Axes3D\n",
    "import numpy as np\n",
    "from IPython.display import Image"
   ]
  },
  {
   "cell_type": "code",
   "execution_count": 39,
   "metadata": {},
   "outputs": [],
   "source": [
    "from websiteScripts import parseFasta, kmerXTable, kmeans\n",
    "\n",
    "def kmeans_semiSupervised(fasta, y_hat, klength_min = 6, klength_max = 6, rNum = 50):\n",
    "    inputData = parseFasta(fasta)\n",
    "    inputData[\"Sequence\"] = inputData[\"Sequence\"].apply(lambda x: x.replace(\"-\", \"\"))\n",
    "    kmerXTableInput = kmerXTable(inputData, klength_min, klength_max)\n",
    "    \n",
    "    PCAembedding = PCA(n_components=10)\n",
    "    NkmerXTableInput = preprocessing.normalize(kmerXTableInput)\n",
    "    PCAembedding_low = PCAembedding.fit_transform(NkmerXTableInput)\n",
    "    \n",
    "    ms = MeanShift()\n",
    "    ms.fit(PCAembedding_low)\n",
    "    cluster_centers = ms.cluster_centers_\n",
    "\n",
    "    import warnings\n",
    "    with warnings.catch_warnings():\n",
    "        warnings.simplefilter(\"ignore\")\n",
    "        kmms = KMeans(init = cluster_centers, n_clusters = len(cluster_centers))\n",
    "        kmms_labels = kmms.fit_predict(PCAembedding_low)\n",
    "\n",
    "    # convert all clusters into two clusters\n",
    "    kmerXTableInput[\"pLabels\"] = kmms_labels\n",
    "    kmerXTableInput[\"aLabels\"] = y_hat\n",
    "    newLabels_clusters_1 = kmerXTableInput[kmerXTableInput[\"aLabels\"] == 1][\"pLabels\"].tolist()\n",
    "    newLabels_clusters_0 = kmerXTableInput[kmerXTableInput[\"aLabels\"] == 0][\"pLabels\"].tolist()\n",
    "    newLabels = []\n",
    "\n",
    "    for label in kmms_labels:\n",
    "        if (newLabels_clusters_1.count(label) > newLabels_clusters_0.count(label)):\n",
    "            newLabels.append(1)\n",
    "        else:\n",
    "            newLabels.append(0)\n",
    "            \n",
    "    return newLabels, kmerXTableInput.drop(columns=[\"pLabels\", \"aLabels\"])"
   ]
  },
  {
   "cell_type": "code",
   "execution_count": 40,
   "metadata": {},
   "outputs": [],
   "source": [
    "PATH1 = \"../data/Sclerotinia_biocontrol_mycovirus_nucleotide.fasta\"\n",
    "PATH01 = \"../data/mycovirus_genbank_all_refseq_nucleotide_unique.fasta\"\n",
    "\n",
    "virus1 = parseFasta(PATH1)\n",
    "virus01 = parseFasta(PATH01)\n",
    "virus01 = virus01.append(virus1)\n",
    "virus01 = virus01.drop_duplicates(keep=\"last\")\n",
    "\n",
    "labels_true = [-1 for x in range(350)]"
   ]
  },
  {
   "cell_type": "code",
   "execution_count": 41,
   "metadata": {},
   "outputs": [],
   "source": [
    "y_hat_us_true = kmeans(PATH01, 2, 6, 7, 50)\n",
    "y_hat_s_true = kmeans_semiSupervised(PATH01, labels_true, 6, 7, 50)"
   ]
  },
  {
   "cell_type": "code",
   "execution_count": 42,
   "metadata": {},
   "outputs": [
    {
     "ename": "NameError",
     "evalue": "name 'unittest' is not defined",
     "output_type": "error",
     "traceback": [
      "\u001b[1;31m---------------------------------------------------------------------------\u001b[0m",
      "\u001b[1;31mNameError\u001b[0m                                 Traceback (most recent call last)",
      "\u001b[1;32m<ipython-input-42-c33216468d9e>\u001b[0m in \u001b[0;36m<module>\u001b[1;34m\u001b[0m\n\u001b[1;32m----> 1\u001b[1;33m \u001b[1;32mclass\u001b[0m \u001b[0mTestKM\u001b[0m\u001b[1;33m(\u001b[0m\u001b[0munittest\u001b[0m\u001b[1;33m.\u001b[0m\u001b[0mTestCase\u001b[0m\u001b[1;33m)\u001b[0m\u001b[1;33m:\u001b[0m\u001b[1;33m\u001b[0m\u001b[1;33m\u001b[0m\u001b[0m\n\u001b[0m\u001b[0;32m      2\u001b[0m     \u001b[1;32mdef\u001b[0m \u001b[0mtest_km_us\u001b[0m\u001b[1;33m(\u001b[0m\u001b[0mself\u001b[0m\u001b[1;33m)\u001b[0m\u001b[1;33m:\u001b[0m\u001b[1;33m\u001b[0m\u001b[1;33m\u001b[0m\u001b[0m\n\u001b[0;32m      3\u001b[0m         \u001b[0mdata\u001b[0m \u001b[1;33m=\u001b[0m \u001b[0mPATH01\u001b[0m\u001b[1;33m\u001b[0m\u001b[1;33m\u001b[0m\u001b[0m\n\u001b[0;32m      4\u001b[0m         \u001b[0mresult\u001b[0m \u001b[1;33m=\u001b[0m \u001b[0mkmeans\u001b[0m\u001b[1;33m(\u001b[0m\u001b[0mPATH01\u001b[0m\u001b[1;33m,\u001b[0m \u001b[1;36m2\u001b[0m\u001b[1;33m,\u001b[0m \u001b[1;36m6\u001b[0m\u001b[1;33m,\u001b[0m \u001b[1;36m7\u001b[0m\u001b[1;33m,\u001b[0m \u001b[1;36m50\u001b[0m\u001b[1;33m)\u001b[0m\u001b[1;33m\u001b[0m\u001b[1;33m\u001b[0m\u001b[0m\n\u001b[0;32m      5\u001b[0m         \u001b[0mself\u001b[0m\u001b[1;33m.\u001b[0m\u001b[0massertEqual\u001b[0m\u001b[1;33m(\u001b[0m\u001b[0mresult\u001b[0m\u001b[1;33m,\u001b[0m \u001b[0my_hat_us_true\u001b[0m\u001b[1;33m)\u001b[0m\u001b[1;33m\u001b[0m\u001b[1;33m\u001b[0m\u001b[0m\n",
      "\u001b[1;31mNameError\u001b[0m: name 'unittest' is not defined"
     ]
    }
   ],
   "source": [
    "class TestKM(unittest.TestCase):\n",
    "    def test_km_us(self):\n",
    "        data = PATH01\n",
    "        result = kmeans(PATH01, 2, 6, 7, 50)\n",
    "        self.assertEqual(result, y_hat_us_true)\n",
    "        \n",
    "    def test_km_s(self):\n",
    "        data = PATH01\n",
    "        result = kmeans_semiSupervised(PATH01, labels_true, 6, 7, 50)\n",
    "        self.assertEqual(result, y_hat_s_true)\n",
    "        \n",
    "        \n",
    "if __name__ == '__main__':\n",
    "    unittest.main()"
   ]
  },
  {
   "cell_type": "code",
   "execution_count": null,
   "metadata": {},
   "outputs": [],
   "source": []
  }
 ],
 "metadata": {
  "kernelspec": {
   "display_name": "Python 3",
   "language": "python",
   "name": "python3"
  },
  "language_info": {
   "codemirror_mode": {
    "name": "ipython",
    "version": 3
   },
   "file_extension": ".py",
   "mimetype": "text/x-python",
   "name": "python",
   "nbconvert_exporter": "python",
   "pygments_lexer": "ipython3",
   "version": "3.7.4"
  }
 },
 "nbformat": 4,
 "nbformat_minor": 4
}
